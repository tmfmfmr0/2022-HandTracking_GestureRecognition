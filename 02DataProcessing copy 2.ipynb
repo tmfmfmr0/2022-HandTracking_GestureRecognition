{
 "cells": [
  {
   "cell_type": "code",
   "execution_count": null,
   "metadata": {},
   "outputs": [],
   "source": [
    "## (제스처마다) 데이터프레임 읽기 - X,y 분리 - 시퀀스데이터로 - 훈련데이터 시험데이터 분리 - \n",
    "## (for 나와서) X,y concat - 모델 작성 - 학습"
   ]
  },
  {
   "cell_type": "code",
   "execution_count": 2,
   "metadata": {},
   "outputs": [],
   "source": [
    "import os\n",
    "import pandas as pd\n",
    "import numpy as np\n",
    "from keras.utils.np_utils import to_categorical\n",
    "\n",
    "path = \"./Dataset\"\n",
    "file_list = os.listdir(path)\n",
    "\n",
    "actions =[]\n",
    "for i in range(len(file_list)) :\n",
    "    actions.append(file_list[i][:-4])\n",
    "\n",
    "seq_length = 10"
   ]
  },
  {
   "cell_type": "code",
   "execution_count": 6,
   "metadata": {},
   "outputs": [],
   "source": [
    "# 제스처별로 전처리하고 훈련데이터 시험데이터 생성하기\n",
    "data_x, data_y = [], []\n",
    "xtrain, ytrain, xtest, ytest = [], [], [], []\n",
    "\n",
    "# for i in range(1):\n",
    "for i in range(len(file_list)):\n",
    "\n",
    "    # 데이터프레임 읽고 변수, 라벨 분리\n",
    "    df = pd.read_csv(f'{path}/{file_list[i]}', header=None)\n",
    "    dfx = df.iloc[:, :-1].to_numpy()\n",
    "    dfy = df.iloc[:, -1].to_numpy()\n",
    "\n",
    "    # 시퀀스길이에 따라 시퀀스데이터로 변환\n",
    "\n",
    "    for i in range(len(df) - seq_length):\n",
    "        data_x.append(dfx[i: i + seq_length])\n",
    "        data_y.append(dfy[i + seq_length])\n",
    "\n",
    "# 정답지 원-핫 인코딩\n",
    "data_y = to_categorical(data_y, num_classes=len(actions))\n",
    "\n",
    "# # 훈련데이터 시험데이터 분리\n",
    "# train_ratio = 0.8\n",
    "# train_size = int(len(data_y) * train_ratio)    # 80%를 훈련데이터로\n",
    "# xtrain.append(data_x[:train_size])\n",
    "# ytrain.append(data_y[:train_size])\n",
    "# xtest.append(data_x[train_size:])\n",
    "# ytest.append(data_y[train_size:])\n",
    "    \n",
    "\n",
    "# xtrain = np.array(xtrain)\n",
    "# ytrain = np.array(ytrain)\n",
    "# xtest = np.array(xtest)\n",
    "# ytest = np.array(ytest)"
   ]
  },
  {
   "cell_type": "code",
   "execution_count": null,
   "metadata": {},
   "outputs": [],
   "source": []
  }
 ],
 "metadata": {
  "interpreter": {
   "hash": "b3684562efed9d44592b610a8f8a2b0b723925e822dbc8078ff007ea2160eabd"
  },
  "kernelspec": {
   "display_name": "Python 3.9.12 ('MLDL')",
   "language": "python",
   "name": "python3"
  },
  "language_info": {
   "codemirror_mode": {
    "name": "ipython",
    "version": 3
   },
   "file_extension": ".py",
   "mimetype": "text/x-python",
   "name": "python",
   "nbconvert_exporter": "python",
   "pygments_lexer": "ipython3",
   "version": "3.9.12"
  },
  "orig_nbformat": 4
 },
 "nbformat": 4,
 "nbformat_minor": 2
}
