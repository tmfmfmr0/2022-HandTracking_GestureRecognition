{
 "cells": [
  {
   "cell_type": "code",
   "execution_count": 1,
   "metadata": {},
   "outputs": [],
   "source": [
    "import os\n",
    "import pandas as pd\n",
    "import numpy as np\n",
    "from sklearn.model_selection import train_test_split\n",
    "\n",
    "path = \"./Dataset\"  # 데이터셋이 저장된 경로\n",
    "file_list = os.listdir(path)    # 데이터셋의 목록 읽어오기\n",
    "\n",
    "actions = []    # 파일 확장자 빼고 제스처 이름만 저장\n",
    "for i in range(len(file_list)) :\n",
    "    actions.append(file_list[i][:-4])\n",
    "\n",
    "seq_length = 10"
   ]
  },
  {
   "cell_type": "code",
   "execution_count": 2,
   "metadata": {},
   "outputs": [],
   "source": [
    "# 제스처별로 전처리하고 훈련데이터 시험데이터 생성하기\n",
    "datax, datay = [], []\n",
    "\n",
    "# for i in range(1):\n",
    "for i in range(len(file_list)):\n",
    "\n",
    "    # 데이터프레임 읽고 변수, 라벨 분리\n",
    "    df = pd.read_csv(f'{path}/{file_list[i]}', header=None)\n",
    "    dfx = df.iloc[:, :-1].to_numpy()\n",
    "    dfy = df.iloc[:, -1].to_numpy()\n",
    "\n",
    "    # 시퀀스길이에 따라 시퀀스데이터로 변환\n",
    "    for i in range(len(df) - seq_length):\n",
    "        datax.append(dfx[i: i + seq_length])\n",
    "        datay.append(dfy[i + seq_length])"
   ]
  },
  {
   "cell_type": "code",
   "execution_count": 3,
   "metadata": {},
   "outputs": [],
   "source": [
    "# # 정답지 원-핫 인코딩\n",
    "# from keras.utils.np_utils import to_categorical\n",
    "# datay = to_categorical(datay, num_classes=len(actions))\n",
    "\n",
    "# 문제지 정답지 타입 변환\n",
    "datax = np.array(datax)\n",
    "datay = np.array(datay)"
   ]
  },
  {
   "cell_type": "code",
   "execution_count": 4,
   "metadata": {},
   "outputs": [
    {
     "name": "stdout",
     "output_type": "stream",
     "text": [
      "(342, 10, 15) (39, 10, 15) (342,) (39,)\n"
     ]
    }
   ],
   "source": [
    "# 훈련데이터 시험데이터 분리\n",
    "xtrain, xtest, ytrain, ytest = train_test_split(datax, datay, test_size=0.1)\n",
    "print(xtrain.shape, xtest.shape, ytrain.shape, ytest.shape)"
   ]
  },
  {
   "cell_type": "code",
   "execution_count": 6,
   "metadata": {},
   "outputs": [
    {
     "name": "stdout",
     "output_type": "stream",
     "text": [
      "2/2 [==============================] - 0s 3ms/step - loss: 0.0030 - accuracy: 1.0000\n"
     ]
    }
   ],
   "source": [
    "from keras.models import Sequential\n",
    "from keras import layers, callbacks\n",
    "\n",
    "epochs=20\n",
    "\n",
    "model6 = Sequential([\n",
    "    layers.GRU(64, input_shape=xtrain.shape[1:], activation='tanh'),\n",
    "    layers.Dense(32, activation='relu'),\n",
    "    layers.Dense(len(actions), activation='softmax')\n",
    "])\n",
    "\n",
    "model6.compile(optimizer='adam', loss='sparse_categorical_crossentropy', metrics='accuracy')\n",
    "\n",
    "checkpoint = callbacks.ModelCheckpoint('./Models/model6.h5', save_best_only=True)\n",
    "earlystopping = callbacks.EarlyStopping(patience=10, restore_best_weights=True)\n",
    "\n",
    "hist6 = model6.fit(\n",
    "                    xtrain, ytrain,\n",
    "                    validation_split=0.2,\n",
    "                    epochs = epochs,\n",
    "                    callbacks = [checkpoint, earlystopping],\n",
    "                    verbose=0\n",
    "                )\n",
    "\n",
    "score6 = model6.evaluate(xtest, ytest)"
   ]
  },
  {
   "cell_type": "code",
   "execution_count": null,
   "metadata": {},
   "outputs": [],
   "source": []
  },
  {
   "cell_type": "code",
   "execution_count": 11,
   "metadata": {},
   "outputs": [
    {
     "data": {
      "text/plain": [
       "array([[4.7896359e-14, 1.0000000e+00, 2.7794795e-09],\n",
       "       [1.0000000e+00, 3.7573428e-10, 7.5808976e-10],\n",
       "       [9.9788874e-01, 2.1106414e-03, 5.5530961e-07],\n",
       "       [1.0000000e+00, 2.6832971e-13, 3.8025065e-12],\n",
       "       [1.8621324e-13, 1.0000000e+00, 3.8053849e-17],\n",
       "       [1.0000000e+00, 6.8587565e-14, 5.3567686e-13],\n",
       "       [3.0964719e-13, 1.0000000e+00, 2.9796721e-09],\n",
       "       [1.0000000e+00, 1.9349954e-11, 8.5928548e-10],\n",
       "       [4.3150265e-04, 9.9956399e-01, 4.5222509e-06],\n",
       "       [1.3981425e-14, 1.0000000e+00, 1.1726040e-12],\n",
       "       [9.9985266e-01, 1.6091659e-06, 1.4562621e-04],\n",
       "       [5.1263105e-11, 1.0000000e+00, 3.6868820e-11],\n",
       "       [1.5745471e-05, 1.1803895e-05, 9.9997246e-01],\n",
       "       [5.3788135e-05, 1.5754291e-06, 9.9994469e-01],\n",
       "       [1.0000000e+00, 8.9882979e-10, 1.2660593e-10],\n",
       "       [1.0000000e+00, 2.1127698e-10, 2.1298310e-11],\n",
       "       [8.1379167e-11, 7.0103874e-07, 9.9999928e-01],\n",
       "       [4.2862524e-17, 1.0000000e+00, 8.6562883e-17],\n",
       "       [1.0000000e+00, 7.0732245e-14, 2.9865548e-14],\n",
       "       [2.3258172e-13, 1.4338453e-10, 1.0000000e+00],\n",
       "       [3.1314085e-12, 1.0000000e+00, 6.6107546e-09],\n",
       "       [1.0000000e+00, 8.3099222e-12, 3.4320682e-09],\n",
       "       [1.2719916e-04, 9.9987280e-01, 1.3126912e-09],\n",
       "       [1.0000000e+00, 4.4476742e-09, 1.1384534e-12],\n",
       "       [1.7128002e-06, 9.9999714e-01, 1.2001738e-06],\n",
       "       [9.9999952e-01, 3.3617036e-07, 7.9837413e-08],\n",
       "       [5.0658932e-06, 9.9999011e-01, 4.9087721e-06],\n",
       "       [1.9830788e-11, 2.7692892e-08, 1.0000000e+00],\n",
       "       [2.0994594e-38, 1.0070325e-22, 1.0000000e+00],\n",
       "       [1.0000000e+00, 1.3009306e-09, 4.5129758e-10],\n",
       "       [1.8667914e-09, 1.0000000e+00, 1.7457095e-08],\n",
       "       [1.4717633e-05, 3.0402578e-05, 9.9995482e-01],\n",
       "       [1.0000000e+00, 2.6375029e-09, 2.0460841e-10],\n",
       "       [5.0924411e-09, 4.9060031e-08, 1.0000000e+00],\n",
       "       [8.1665792e-11, 1.0000000e+00, 4.2159698e-10],\n",
       "       [2.6580764e-12, 9.9999917e-01, 8.0421171e-07],\n",
       "       [9.9999273e-01, 5.9993604e-06, 1.3324775e-06],\n",
       "       [8.4876836e-12, 1.0000000e+00, 1.4364510e-14],\n",
       "       [4.2654769e-11, 1.0000000e+00, 4.9182221e-11]], dtype=float32)"
      ]
     },
     "execution_count": 11,
     "metadata": {},
     "output_type": "execute_result"
    }
   ],
   "source": [
    "from keras.models import load_model\n",
    "from sklearn.metrics import multilabel_confusion_matrix\n",
    "\n",
    "model = load_model('models/model.h5')\n",
    "\n",
    "y_pred = model.predict(xtest)\n",
    "y_pred"
   ]
  },
  {
   "cell_type": "code",
   "execution_count": 15,
   "metadata": {},
   "outputs": [
    {
     "data": {
      "text/plain": [
       "array([1, 0, 0, 0, 1, 0, 1, 0, 1, 1, 0, 1, 2, 2, 0, 0, 2, 1, 0, 2, 1, 0,\n",
       "       1, 0, 1, 0, 1, 2, 2, 0, 1, 2, 0, 2, 1, 1, 0, 1, 1], dtype=int64)"
      ]
     },
     "execution_count": 15,
     "metadata": {},
     "output_type": "execute_result"
    }
   ],
   "source": [
    "ytest"
   ]
  },
  {
   "cell_type": "code",
   "execution_count": 16,
   "metadata": {},
   "outputs": [
    {
     "data": {
      "text/plain": [
       "array([[0., 1., 0.],\n",
       "       [1., 0., 0.],\n",
       "       [1., 0., 0.],\n",
       "       [1., 0., 0.],\n",
       "       [0., 1., 0.],\n",
       "       [1., 0., 0.],\n",
       "       [0., 1., 0.],\n",
       "       [1., 0., 0.],\n",
       "       [0., 1., 0.],\n",
       "       [0., 1., 0.],\n",
       "       [1., 0., 0.],\n",
       "       [0., 1., 0.],\n",
       "       [0., 0., 1.],\n",
       "       [0., 0., 1.],\n",
       "       [1., 0., 0.],\n",
       "       [1., 0., 0.],\n",
       "       [0., 0., 1.],\n",
       "       [0., 1., 0.],\n",
       "       [1., 0., 0.],\n",
       "       [0., 0., 1.],\n",
       "       [0., 1., 0.],\n",
       "       [1., 0., 0.],\n",
       "       [0., 1., 0.],\n",
       "       [1., 0., 0.],\n",
       "       [0., 1., 0.],\n",
       "       [1., 0., 0.],\n",
       "       [0., 1., 0.],\n",
       "       [0., 0., 1.],\n",
       "       [0., 0., 1.],\n",
       "       [1., 0., 0.],\n",
       "       [0., 1., 0.],\n",
       "       [0., 0., 1.],\n",
       "       [1., 0., 0.],\n",
       "       [0., 0., 1.],\n",
       "       [0., 1., 0.],\n",
       "       [0., 1., 0.],\n",
       "       [1., 0., 0.],\n",
       "       [0., 1., 0.],\n",
       "       [0., 1., 0.]], dtype=float32)"
      ]
     },
     "execution_count": 16,
     "metadata": {},
     "output_type": "execute_result"
    }
   ],
   "source": [
    "# 원핫인코딩\n",
    "from keras.utils.np_utils import to_categorical\n",
    "ytestEn = to_categorical(ytest, num_classes=len(actions))\n",
    "ytestEn"
   ]
  },
  {
   "cell_type": "code",
   "execution_count": 20,
   "metadata": {},
   "outputs": [
    {
     "data": {
      "text/plain": [
       "array([[[24,  0],\n",
       "        [ 0, 15]],\n",
       "\n",
       "       [[23,  0],\n",
       "        [ 0, 16]],\n",
       "\n",
       "       [[31,  0],\n",
       "        [ 0,  8]]], dtype=int64)"
      ]
     },
     "execution_count": 20,
     "metadata": {},
     "output_type": "execute_result"
    }
   ],
   "source": [
    "# multilabel_confusion_matrix(ytest, y_pred)\n",
    "multilabel_confusion_matrix(np.argmax(ytestEn, axis=1), np.argmax(y_pred, axis=1))"
   ]
  },
  {
   "cell_type": "code",
   "execution_count": null,
   "metadata": {},
   "outputs": [],
   "source": []
  }
 ],
 "metadata": {
  "interpreter": {
   "hash": "cd59dd0552be85c986afa874499caaa5a13b671b4e441343555b9e4ea7e04c40"
  },
  "kernelspec": {
   "display_name": "Python 3.7.13 ('py_3_7')",
   "language": "python",
   "name": "python3"
  },
  "language_info": {
   "codemirror_mode": {
    "name": "ipython",
    "version": 3
   },
   "file_extension": ".py",
   "mimetype": "text/x-python",
   "name": "python",
   "nbconvert_exporter": "python",
   "pygments_lexer": "ipython3",
   "version": "3.7.13"
  },
  "orig_nbformat": 4
 },
 "nbformat": 4,
 "nbformat_minor": 2
}
