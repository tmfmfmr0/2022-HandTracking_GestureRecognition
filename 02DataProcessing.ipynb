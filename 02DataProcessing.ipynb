{
 "cells": [
  {
   "cell_type": "code",
   "execution_count": 1,
   "metadata": {},
   "outputs": [],
   "source": [
    "import os\n",
    "import pandas as pd\n",
    "import numpy as np\n",
    "from sklearn.model_selection import train_test_split\n",
    "\n",
    "path = \"./Dataset\"  # 데이터셋이 저장된 경로\n",
    "file_list = os.listdir(path)    # 데이터셋의 목록 읽어오기\n",
    "\n",
    "actions = []    # 파일 확장자 빼고 제스처 이름만 저장\n",
    "for i in range(len(file_list)) :\n",
    "    actions.append(file_list[i][:-4])\n",
    "\n",
    "seq_length = 10"
   ]
  },
  {
   "cell_type": "code",
   "execution_count": 2,
   "metadata": {},
   "outputs": [],
   "source": [
    "# 제스처별로 전처리하고 훈련데이터 시험데이터 생성하기\n",
    "datax, datay = [], []\n",
    "\n",
    "# for i in range(1):\n",
    "for i in range(len(file_list)):\n",
    "\n",
    "    # 데이터프레임 읽고 변수, 라벨 분리\n",
    "    df = pd.read_csv(f'{path}/{file_list[i]}', header=None)\n",
    "    dfx = df.iloc[:, :-1].to_numpy()\n",
    "    dfy = df.iloc[:, -1].to_numpy()\n",
    "\n",
    "    # 시퀀스길이에 따라 시퀀스데이터로 변환\n",
    "    for i in range(len(df) - seq_length):\n",
    "        datax.append(dfx[i: i + seq_length])\n",
    "        datay.append(dfy[i + seq_length])"
   ]
  },
  {
   "cell_type": "code",
   "execution_count": 3,
   "metadata": {},
   "outputs": [],
   "source": [
    "# # 정답지 원-핫 인코딩\n",
    "# from keras.utils.np_utils import to_categorical\n",
    "# datay = to_categorical(datay, num_classes=len(actions))\n",
    "\n",
    "# 문제지 정답지 타입 변환\n",
    "datax = np.array(datax)\n",
    "datay = np.array(datay)"
   ]
  },
  {
   "cell_type": "code",
   "execution_count": 4,
   "metadata": {},
   "outputs": [
    {
     "name": "stdout",
     "output_type": "stream",
     "text": [
      "(342, 10, 15) (39, 10, 15) (342,) (39,)\n"
     ]
    }
   ],
   "source": [
    "# 훈련데이터 시험데이터 분리\n",
    "xtrain, xtest, ytrain, ytest = train_test_split(datax, datay, test_size=0.1)\n",
    "print(xtrain.shape, xtest.shape, ytrain.shape, ytest.shape)"
   ]
  },
  {
   "cell_type": "code",
   "execution_count": 5,
   "metadata": {},
   "outputs": [],
   "source": [
    "from keras.models import Sequential\n",
    "from keras import layers, callbacks"
   ]
  },
  {
   "cell_type": "code",
   "execution_count": 6,
   "metadata": {},
   "outputs": [],
   "source": [
    "import time\n",
    "start_time = time.time()"
   ]
  },
  {
   "cell_type": "code",
   "execution_count": 69,
   "metadata": {},
   "outputs": [],
   "source": []
  },
  {
   "cell_type": "code",
   "execution_count": 70,
   "metadata": {},
   "outputs": [
    {
     "name": "stdout",
     "output_type": "stream",
     "text": [
      "2/2 [==============================] - 0s 2ms/step - loss: 0.0069 - accuracy: 1.0000\n"
     ]
    }
   ],
   "source": [
    "model = Sequential([\n",
    "    layers.SimpleRNN(64, input_shape=xtrain.shape[1:], activation='relu'),\n",
    "    layers.Dense(32, activation='relu'),\n",
    "    layers.Dense(len(actions), activation='softmax')\n",
    "])\n",
    "\n",
    "model.compile(optimizer='adam', loss='sparse_categorical_crossentropy', metrics=['accuracy'])\n",
    "\n",
    "validation_split = 0.2\n",
    "epochs = 20\n",
    "\n",
    "checkpoint = callbacks.ModelCheckpoint('./Models/model.h5', save_best_only=True)\n",
    "earlystopping = callbacks.EarlyStopping(patience=10, restore_best_weights=True)\n",
    "\n",
    "hist = model.fit(\n",
    "                    xtrain, ytrain,\n",
    "                    validation_split = validation_split,\n",
    "                    epochs = epochs,\n",
    "                    callbacks = [checkpoint, earlystopping],\n",
    "                    verbose=0\n",
    "                )\n",
    "\n",
    "score = model.evaluate(xtest, ytest)"
   ]
  },
  {
   "cell_type": "code",
   "execution_count": null,
   "metadata": {},
   "outputs": [],
   "source": []
  }
 ],
 "metadata": {
  "interpreter": {
   "hash": "cd59dd0552be85c986afa874499caaa5a13b671b4e441343555b9e4ea7e04c40"
  },
  "kernelspec": {
   "display_name": "Python 3.7.13 ('py_3_7')",
   "language": "python",
   "name": "python3"
  },
  "language_info": {
   "codemirror_mode": {
    "name": "ipython",
    "version": 3
   },
   "file_extension": ".py",
   "mimetype": "text/x-python",
   "name": "python",
   "nbconvert_exporter": "python",
   "pygments_lexer": "ipython3",
   "version": "3.7.13"
  },
  "orig_nbformat": 4
 },
 "nbformat": 4,
 "nbformat_minor": 2
}
