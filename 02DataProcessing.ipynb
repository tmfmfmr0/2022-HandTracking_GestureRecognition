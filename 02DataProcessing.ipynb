{
 "cells": [
  {
   "cell_type": "code",
   "execution_count": null,
   "metadata": {},
   "outputs": [],
   "source": [
    "## (제스처마다) 데이터프레임 읽기 - X,y 분리 - 시퀀스데이터로 - 훈련데이터 시험데이터 분리 - \n",
    "## (for 나와서) X,y concat - 모델 작성 - 학습"
   ]
  },
  {
   "cell_type": "code",
   "execution_count": 14,
   "metadata": {},
   "outputs": [],
   "source": [
    "import os\n",
    "import pandas as pd\n",
    "import numpy as np\n",
    "from keras.utils.np_utils import to_categorical\n",
    "from sklearn.model_selection import train_test_split\n",
    "\n",
    "path = \"./Dataset\"  # 데이터셋이 저장된 경로\n",
    "file_list = os.listdir(path)    # 데이터셋의 목록 읽어오기\n",
    "\n",
    "actions = []\n",
    "for i in range(len(file_list)) :\n",
    "    actions.append(file_list[i][:-4])\n",
    "\n",
    "seq_length = 10"
   ]
  },
  {
   "cell_type": "code",
   "execution_count": 15,
   "metadata": {},
   "outputs": [],
   "source": [
    "# 제스처별로 전처리하고 훈련데이터 시험데이터 생성하기\n",
    "datax, datay = [], []\n",
    "\n",
    "# for i in range(1):\n",
    "for i in range(len(file_list)):\n",
    "\n",
    "    # 데이터프레임 읽고 변수, 라벨 분리\n",
    "    df = pd.read_csv(f'{path}/{file_list[i]}', header=None)\n",
    "    dfx = df.iloc[:, :-1].to_numpy()\n",
    "    dfy = df.iloc[:, -1].to_numpy()\n",
    "\n",
    "    # 시퀀스길이에 따라 시퀀스데이터로 변환\n",
    "    for i in range(len(df) - seq_length):\n",
    "        datax.append(dfx[i: i + seq_length])\n",
    "        datay.append(dfy[i + seq_length])"
   ]
  },
  {
   "cell_type": "code",
   "execution_count": 16,
   "metadata": {},
   "outputs": [],
   "source": [
    "# 정답지 원-핫 인코딩\n",
    "datay = to_categorical(datay, num_classes=len(actions))\n",
    "# 문제지 타입 변환\n",
    "datax = np.array(datax)"
   ]
  },
  {
   "cell_type": "code",
   "execution_count": 17,
   "metadata": {},
   "outputs": [],
   "source": [
    "# 훈련데이터 시험데이터 분리\n",
    "xtrain, xtest, ytrain, ytest = train_test_split(datax, datay, test_size=0.1)"
   ]
  },
  {
   "cell_type": "code",
   "execution_count": 18,
   "metadata": {},
   "outputs": [
    {
     "name": "stdout",
     "output_type": "stream",
     "text": [
      "Epoch 1/100\n",
      " 1/11 [=>............................] - ETA: 7s - loss: 24.4939 - accuracy: 0.2500\n",
      "Epoch 1: val_loss improved from inf to 1.03730, saving model to ./Models\\model.h5\n",
      "11/11 [==============================] - 1s 23ms/step - loss: 11.6648 - accuracy: 0.4035 - val_loss: 1.0373 - val_accuracy: 0.6410 - lr: 0.0010\n",
      "Epoch 2/100\n",
      " 1/11 [=>............................] - ETA: 0s - loss: 1.9681 - accuracy: 0.7188\n",
      "Epoch 2: val_loss improved from 1.03730 to 0.25893, saving model to ./Models\\model.h5\n",
      "11/11 [==============================] - 0s 8ms/step - loss: 0.8057 - accuracy: 0.8129 - val_loss: 0.2589 - val_accuracy: 0.8205 - lr: 0.0010\n",
      "Epoch 3/100\n",
      " 1/11 [=>............................] - ETA: 0s - loss: 0.1911 - accuracy: 0.9375\n",
      "Epoch 3: val_loss improved from 0.25893 to 0.08645, saving model to ./Models\\model.h5\n",
      "11/11 [==============================] - 0s 7ms/step - loss: 0.1064 - accuracy: 0.9649 - val_loss: 0.0865 - val_accuracy: 0.9487 - lr: 0.0010\n",
      "Epoch 4/100\n",
      " 1/11 [=>............................] - ETA: 0s - loss: 0.0662 - accuracy: 1.0000\n",
      "Epoch 4: val_loss improved from 0.08645 to 0.06018, saving model to ./Models\\model.h5\n",
      "11/11 [==============================] - 0s 7ms/step - loss: 0.0390 - accuracy: 0.9942 - val_loss: 0.0602 - val_accuracy: 0.9744 - lr: 0.0010\n",
      "Epoch 5/100\n",
      " 1/11 [=>............................] - ETA: 0s - loss: 0.0073 - accuracy: 1.0000\n",
      "Epoch 5: val_loss improved from 0.06018 to 0.05197, saving model to ./Models\\model.h5\n",
      "11/11 [==============================] - 0s 7ms/step - loss: 0.0037 - accuracy: 1.0000 - val_loss: 0.0520 - val_accuracy: 0.9744 - lr: 0.0010\n",
      "Epoch 6/100\n",
      " 1/11 [=>............................] - ETA: 0s - loss: 4.4861e-04 - accuracy: 1.0000\n",
      "Epoch 6: val_loss improved from 0.05197 to 0.04565, saving model to ./Models\\model.h5\n",
      "11/11 [==============================] - 0s 7ms/step - loss: 0.0016 - accuracy: 1.0000 - val_loss: 0.0456 - val_accuracy: 0.9744 - lr: 0.0010\n",
      "Epoch 7/100\n",
      " 1/11 [=>............................] - ETA: 0s - loss: 9.4178e-04 - accuracy: 1.0000\n",
      "Epoch 7: val_loss improved from 0.04565 to 0.04284, saving model to ./Models\\model.h5\n",
      "11/11 [==============================] - 0s 7ms/step - loss: 7.1890e-04 - accuracy: 1.0000 - val_loss: 0.0428 - val_accuracy: 0.9744 - lr: 0.0010\n",
      "Epoch 8/100\n",
      " 1/11 [=>............................] - ETA: 0s - loss: 6.3604e-04 - accuracy: 1.0000\n",
      "Epoch 8: val_loss did not improve from 0.04284\n",
      "11/11 [==============================] - 0s 5ms/step - loss: 6.9570e-04 - accuracy: 1.0000 - val_loss: 0.0429 - val_accuracy: 0.9744 - lr: 0.0010\n",
      "Epoch 9/100\n",
      " 1/11 [=>............................] - ETA: 0s - loss: 5.0573e-04 - accuracy: 1.0000\n",
      "Epoch 9: val_loss did not improve from 0.04284\n",
      "11/11 [==============================] - 0s 5ms/step - loss: 7.5351e-04 - accuracy: 1.0000 - val_loss: 0.0433 - val_accuracy: 0.9744 - lr: 0.0010\n",
      "Epoch 10/100\n",
      " 1/11 [=>............................] - ETA: 0s - loss: 9.0162e-04 - accuracy: 1.0000\n",
      "Epoch 10: val_loss did not improve from 0.04284\n",
      "11/11 [==============================] - 0s 4ms/step - loss: 5.9209e-04 - accuracy: 1.0000 - val_loss: 0.0463 - val_accuracy: 0.9744 - lr: 0.0010\n",
      "Epoch 11/100\n",
      " 1/11 [=>............................] - ETA: 0s - loss: 0.0012 - accuracy: 1.0000\n",
      "Epoch 11: val_loss did not improve from 0.04284\n",
      "11/11 [==============================] - 0s 5ms/step - loss: 4.6626e-04 - accuracy: 1.0000 - val_loss: 0.0488 - val_accuracy: 0.9744 - lr: 0.0010\n",
      "Epoch 12/100\n",
      " 1/11 [=>............................] - ETA: 0s - loss: 1.9133e-04 - accuracy: 1.0000\n",
      "Epoch 12: val_loss did not improve from 0.04284\n",
      "11/11 [==============================] - 0s 5ms/step - loss: 3.6154e-04 - accuracy: 1.0000 - val_loss: 0.0498 - val_accuracy: 0.9744 - lr: 0.0010\n",
      "Epoch 13/100\n",
      " 1/11 [=>............................] - ETA: 0s - loss: 1.2305e-04 - accuracy: 1.0000\n",
      "Epoch 13: val_loss did not improve from 0.04284\n",
      "11/11 [==============================] - 0s 5ms/step - loss: 2.9087e-04 - accuracy: 1.0000 - val_loss: 0.0500 - val_accuracy: 0.9744 - lr: 0.0010\n",
      "Epoch 14/100\n",
      " 1/11 [=>............................] - ETA: 0s - loss: 1.8124e-04 - accuracy: 1.0000\n",
      "Epoch 14: val_loss did not improve from 0.04284\n",
      "11/11 [==============================] - 0s 5ms/step - loss: 2.4132e-04 - accuracy: 1.0000 - val_loss: 0.0501 - val_accuracy: 0.9744 - lr: 0.0010\n",
      "Epoch 15/100\n",
      " 1/11 [=>............................] - ETA: 0s - loss: 9.1254e-05 - accuracy: 1.0000\n",
      "Epoch 15: val_loss did not improve from 0.04284\n",
      "11/11 [==============================] - 0s 6ms/step - loss: 2.0187e-04 - accuracy: 1.0000 - val_loss: 0.0493 - val_accuracy: 0.9744 - lr: 0.0010\n",
      "Epoch 16/100\n",
      " 1/11 [=>............................] - ETA: 0s - loss: 2.3861e-04 - accuracy: 1.0000\n",
      "Epoch 16: val_loss did not improve from 0.04284\n",
      "11/11 [==============================] - 0s 5ms/step - loss: 1.6949e-04 - accuracy: 1.0000 - val_loss: 0.0486 - val_accuracy: 0.9744 - lr: 0.0010\n",
      "Epoch 17/100\n",
      " 1/11 [=>............................] - ETA: 0s - loss: 7.4242e-05 - accuracy: 1.0000\n",
      "Epoch 17: val_loss did not improve from 0.04284\n",
      "\n",
      "Epoch 17: ReduceLROnPlateau reducing learning rate to 0.0005000000237487257.\n",
      "11/11 [==============================] - 0s 5ms/step - loss: 1.4782e-04 - accuracy: 1.0000 - val_loss: 0.0483 - val_accuracy: 0.9744 - lr: 0.0010\n"
     ]
    },
    {
     "data": {
      "text/plain": [
       "<keras.callbacks.History at 0x27f27e3f408>"
      ]
     },
     "execution_count": 18,
     "metadata": {},
     "output_type": "execute_result"
    }
   ],
   "source": [
    "from tensorflow import keras\n",
    "\n",
    "model = keras.Sequential()\n",
    "model.add( keras.layers.LSTM(64, activation = 'relu', input_shape = xtrain.shape[1:] ))\n",
    "model.add( keras.layers.Dense(32, activation='relu') )\n",
    "model.add( keras.layers.Dense(len(actions), activation='softmax') )\n",
    "\n",
    "model.compile(optimizer='adam', loss='categorical_crossentropy', metrics = 'accuracy')                              # sparse categorical crossentropy는 정수, categorical crossentropy는 원핫인코딩\n",
    "\n",
    "checkpoint = keras.callbacks.ModelCheckpoint('./Models/model.h5', verbose=1, save_best_only=True, mode='auto')\n",
    "reduceLR = keras.callbacks.ReduceLROnPlateau(monitor='val_loss', factor=0.5, patience=10, verbose=1, mode='auto')\n",
    "early = keras.callbacks.EarlyStopping(patience=10, restore_best_weights=True)\n",
    "\n",
    "model.fit(  xtrain, ytrain,\n",
    "            validation_data = (xtest, ytest),\n",
    "            epochs = 100,\n",
    "            callbacks = [checkpoint, reduceLR, early]\n",
    "            )"
   ]
  },
  {
   "cell_type": "code",
   "execution_count": null,
   "metadata": {},
   "outputs": [],
   "source": []
  },
  {
   "cell_type": "code",
   "execution_count": null,
   "metadata": {},
   "outputs": [],
   "source": []
  }
 ],
 "metadata": {
  "interpreter": {
   "hash": "cd59dd0552be85c986afa874499caaa5a13b671b4e441343555b9e4ea7e04c40"
  },
  "kernelspec": {
   "display_name": "Python 3.7.13 ('py_3_7')",
   "language": "python",
   "name": "python3"
  },
  "language_info": {
   "codemirror_mode": {
    "name": "ipython",
    "version": 3
   },
   "file_extension": ".py",
   "mimetype": "text/x-python",
   "name": "python",
   "nbconvert_exporter": "python",
   "pygments_lexer": "ipython3",
   "version": "3.7.13"
  },
  "orig_nbformat": 4
 },
 "nbformat": 4,
 "nbformat_minor": 2
}
