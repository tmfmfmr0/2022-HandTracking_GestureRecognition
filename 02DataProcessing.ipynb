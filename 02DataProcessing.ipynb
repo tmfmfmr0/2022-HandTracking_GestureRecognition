{
 "cells": [
  {
   "cell_type": "code",
   "execution_count": null,
   "metadata": {},
   "outputs": [],
   "source": [
    "## (제스처마다) 데이터프레임 읽기 - X,y 분리 - \n",
    "## (for 나와서) X,y concat - X데이터 표준화 - 시퀀스데이터로 - 학습"
   ]
  },
  {
   "cell_type": "code",
   "execution_count": 1,
   "metadata": {},
   "outputs": [],
   "source": [
    "import os\n",
    "import pandas as pd\n",
    "import numpy as np\n",
    "from sklearn.preprocessing import MinMaxScaler\n",
    "\n",
    "path = \"./Dataset\"\n",
    "file_list = os.listdir(path)\n",
    "\n",
    "seq_length = 10"
   ]
  },
  {
   "cell_type": "code",
   "execution_count": null,
   "metadata": {},
   "outputs": [],
   "source": [
    "xtrain, ytrain, xtest, ytest = [], [], [], []\n",
    "\n",
    "for i in range(1):\n",
    "#for i in range(len(file_list)):\n",
    "    df = pd.read_csv(f'{path}/{file_list[i]}', header=None)\n",
    "    dfx = df.iloc[:, :-1].to_numpy()\n",
    "    dfy = df.iloc[:, -1]\n",
    "    \n",
    "    data_x = []\n",
    "    data_y = []\n",
    "    for i in range( len(df) - seq_length ):\n",
    "        data_x.append( dfx[i : i + seq_length] )\n",
    "        data_y.append( dfy[i + seq_length] )"
   ]
  }
 ],
 "metadata": {
  "interpreter": {
   "hash": "cd59dd0552be85c986afa874499caaa5a13b671b4e441343555b9e4ea7e04c40"
  },
  "kernelspec": {
   "display_name": "Python 3.7.13 ('py_3_7')",
   "language": "python",
   "name": "python3"
  },
  "language_info": {
   "codemirror_mode": {
    "name": "ipython",
    "version": 3
   },
   "file_extension": ".py",
   "mimetype": "text/x-python",
   "name": "python",
   "nbconvert_exporter": "python",
   "pygments_lexer": "ipython3",
   "version": "3.7.13"
  },
  "orig_nbformat": 4
 },
 "nbformat": 4,
 "nbformat_minor": 2
}
