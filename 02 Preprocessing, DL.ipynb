{
 "cells": [
  {
   "cell_type": "code",
   "execution_count": 1,
   "metadata": {},
   "outputs": [],
   "source": [
    "import os\n",
    "import numpy as np\n",
    "\n",
    "from keras.utils.np_utils import to_categorical\n",
    "from sklearn.model_selection import train_test_split\n",
    "\n",
    "from keras.models import Sequential\n",
    "from keras import layers, callbacks\n",
    "\n",
    "from keras.models import load_model\n",
    "from sklearn.metrics import multilabel_confusion_matrix\n",
    "\n",
    "import matplotlib.pyplot as plt\n",
    "\n",
    "from tqdm import tqdm, tqdm_notebook"
   ]
  },
  {
   "cell_type": "code",
   "execution_count": null,
   "metadata": {},
   "outputs": [],
   "source": [
    "# 제스처 좌표데이터셋 목록 읽어오기\n",
    "file_list = os.listdir(\"./Dataset\")\n",
    "# 파일 확장자 빼고 제스처 이름만 저장\n",
    "actions = []\n",
    "for i in range(len(file_list)) :\n",
    "    actions.append(file_list[i][:-4])\n",
    "\n",
    "\n",
    "# 회전변환 행렬\n",
    "def Rx(theta) :\n",
    "    return np.array([[1,        0,              0      ], \n",
    "                    [ 0,  np.cos(theta), -np.sin(theta)], \n",
    "                    [ 0,  np.sin(theta),  np.cos(theta)]])\n",
    "def Ry(theta) :\n",
    "    return np.array([[np.cos(theta),  0,  np.sin(theta)], \n",
    "                    [       0,        1,        0      ],\n",
    "                    [-np.sin(theta),  0,  np.cos(theta)]])\n",
    "def Rz(theta) :\n",
    "    return np.array([[np.cos(theta), -np.sin(theta),  0  ], \n",
    "                    [ np.sin(theta),  np.cos(theta),  0  ], \n",
    "                    [       0,              0,        1  ]])\n",
    "# 각 축을 기준으로 회전변환할 각도 (x, y, z 축 기준 회전각 : pitch, yaw, roll)\n",
    "# rotation_degree_x = np.deg2rad([0, 5,10,15,20,25,30, -5,-10,-15,-20,-25,-30])\n",
    "# rotation_degree_y = np.deg2rad([0, 5,10,15,20,25,30, -5,-10,-15,-20,-25,-30])\n",
    "# rotation_degree_z = np.deg2rad([0, 10,20,30, -10,-20,-30])\n",
    "rotation_degree_x = np.deg2rad([0, 5,10,15, -5,-10,-15,])\n",
    "rotation_degree_y = np.deg2rad([0, 5,10,15, -5,-10,-15])\n",
    "rotation_degree_z = np.deg2rad([0, 10,20, -10,-20])\n",
    "\n",
    "# 시퀀스 길이\n",
    "seq_length = 15"
   ]
  },
  {
   "cell_type": "code",
   "execution_count": null,
   "metadata": {},
   "outputs": [
    {
     "name": "stderr",
     "output_type": "stream",
     "text": [
      "7it [03:00, 25.81s/it]\n"
     ]
    }
   ],
   "source": [
    "data_X = np.zeros((1, seq_length, 27))    # 25는 angle데이터 길이\n",
    "data_Y = np.zeros(1)\n",
    "\n",
    "# 각 제스처 좌표 데이터셋마다\n",
    "for action_index, action_name in tqdm(enumerate(actions)):\n",
    "    loaded = np.load(f'./Dataset/{actions[action_index]}.npy')\n",
    "    # 각 회전마다\n",
    "    for rdz in rotation_degree_z :\n",
    "        for rdy in rotation_degree_y :\n",
    "            for rdx in rotation_degree_x :\n",
    "                \n",
    "                data_list_X, data_list_y = [], []\n",
    "                angle_data = []\n",
    "                \n",
    "                # 제스처데이터 각 프레임마다\n",
    "                for fr in range(len(loaded)) :\n",
    "                    coord = []\n",
    "                    \n",
    "                    # 각 프레임의 모든 랜드마크 좌표 회전변환\n",
    "                    for lm in range(21) :    \n",
    "                        coord.append( loaded[fr][lm] @ Rz(rdz) @ Ry(rdy) @ Rx(rdx) )\n",
    "                    coord = np.array(coord)\n",
    "\n",
    "                    a = coord[[ 5,  1,2,3,  5,6,7,   9,10,11,  13,14,15,  17,18,19,  0, 0], :]\n",
    "                    b = coord[[17,  2,3,4,  6,7,8,  10,11,12,  14,15,16,  18,19,20,  5,17], :]\n",
    "                    vec = b - a\n",
    "                    vec_unit = vec / np.linalg.norm(vec, axis=1)[:, np.newaxis]\n",
    "                    vec_unit = np.append(vec_unit, [[1,0,0]], axis=0)\n",
    "                    vec_unit = np.append(vec_unit, [[0,1,0]], axis=0)\n",
    "                    vec_unit = np.append(vec_unit, [[0,0,1]], axis=0)\n",
    "                    \n",
    "                    angle = np.arccos( np.einsum('ij, ij->i',\n",
    "                        vec_unit[[0,1,2,  0,4,5,  0,7,8,   0,10,11,   0,13,14,  3,6,9,12,15,  6,9,12,15,   0, 0, 0], :],   # , 0, 0, 0\n",
    "                        vec_unit[[1,2,3,  4,5,6,  7,8,9,  10,11,12,  13,14,15,  0,0,0, 0, 0,  2,2, 2, 2,  18,19,20], :]))  # ,18,19,20\n",
    "                    angle = np.degrees(angle)\n",
    "                    angle_data.append(angle)\n",
    "                \n",
    "                # 시퀀스길이에 따라 시퀀스데이터로 변환\n",
    "                for i in range(len(angle_data) - seq_length):\n",
    "                    data_list_X.append(angle_data[i: i + seq_length])\n",
    "                    data_list_y.append(action_index)\n",
    "\n",
    "                # 문제지, 정답지\n",
    "                data_X = np.append(data_X, data_list_X, axis=0)\n",
    "                data_Y = np.append(data_Y, data_list_y, axis=0)"
   ]
  },
  {
   "cell_type": "code",
   "execution_count": null,
   "metadata": {},
   "outputs": [],
   "source": [
    "X = data_X[1:]\n",
    "Y = data_Y[1:]"
   ]
  },
  {
   "cell_type": "code",
   "execution_count": null,
   "metadata": {},
   "outputs": [],
   "source": [
    "Y = to_categorical(Y, num_classes=len(actions))"
   ]
  },
  {
   "cell_type": "code",
   "execution_count": null,
   "metadata": {},
   "outputs": [],
   "source": [
    "X_train, X_test, Y_train, Y_test = train_test_split(X, Y, test_size=0.2)"
   ]
  },
  {
   "cell_type": "code",
   "execution_count": null,
   "metadata": {},
   "outputs": [
    {
     "ename": "NameError",
     "evalue": "name 'model' is not defined",
     "output_type": "error",
     "traceback": [
      "\u001b[1;31m---------------------------------------------------------------------------\u001b[0m",
      "\u001b[1;31mNameError\u001b[0m                                 Traceback (most recent call last)",
      "\u001b[1;32m~\\AppData\\Local\\Temp\\ipykernel_9232\\3682394117.py\u001b[0m in \u001b[0;36m<cell line: 1>\u001b[1;34m()\u001b[0m\n\u001b[1;32m----> 1\u001b[1;33m \u001b[1;32mdel\u001b[0m \u001b[0mmodel\u001b[0m\u001b[1;33m\u001b[0m\u001b[1;33m\u001b[0m\u001b[0m\n\u001b[0m",
      "\u001b[1;31mNameError\u001b[0m: name 'model' is not defined"
     ]
    }
   ],
   "source": [
    "# del model, hist"
   ]
  },
  {
   "cell_type": "code",
   "execution_count": null,
   "metadata": {},
   "outputs": [
    {
     "name": "stdout",
     "output_type": "stream",
     "text": [
      "Model: \"sequential_1\"\n",
      "_________________________________________________________________\n",
      " Layer (type)                Output Shape              Param #   \n",
      "=================================================================\n",
      " gru_1 (GRU)                 (None, 24)                3816      \n",
      "                                                                 \n",
      " dropout_1 (Dropout)         (None, 24)                0         \n",
      "                                                                 \n",
      " dense_2 (Dense)             (None, 24)                600       \n",
      "                                                                 \n",
      " dense_3 (Dense)             (None, 7)                 175       \n",
      "                                                                 \n",
      "=================================================================\n",
      "Total params: 4,591\n",
      "Trainable params: 4,591\n",
      "Non-trainable params: 0\n",
      "_________________________________________________________________\n"
     ]
    }
   ],
   "source": [
    "model = Sequential([\n",
    "    layers.GRU(24, input_shape = X_train.shape[1:], activation='tanh'),\n",
    "    layers.Dropout(0.2),\n",
    "    layers.Dense(24, activation='relu'),\n",
    "    layers.Dense(len(actions), activation='softmax')\n",
    "])\n",
    "\n",
    "model.compile(optimizer='adam', loss='categorical_crossentropy', metrics='accuracy')\n",
    "\n",
    "model.summary()"
   ]
  },
  {
   "cell_type": "code",
   "execution_count": null,
   "metadata": {},
   "outputs": [
    {
     "name": "stdout",
     "output_type": "stream",
     "text": [
      "Epoch 1/10\n",
      "622/622 [==============================] - 4s 5ms/step - loss: 0.2618 - accuracy: 0.9457 - val_loss: 0.0056 - val_accuracy: 1.0000\n",
      "Epoch 2/10\n",
      "622/622 [==============================] - 3s 4ms/step - loss: 0.0216 - accuracy: 0.9963 - val_loss: 8.1540e-04 - val_accuracy: 1.0000\n",
      "Epoch 3/10\n",
      "622/622 [==============================] - 3s 4ms/step - loss: 0.0121 - accuracy: 0.9976 - val_loss: 5.6743e-04 - val_accuracy: 1.0000\n",
      "Epoch 4/10\n",
      "622/622 [==============================] - 3s 4ms/step - loss: 0.0091 - accuracy: 0.9981 - val_loss: 8.8002e-05 - val_accuracy: 1.0000\n",
      "Epoch 5/10\n",
      "622/622 [==============================] - 3s 4ms/step - loss: 0.0060 - accuracy: 0.9986 - val_loss: 3.4556e-05 - val_accuracy: 1.0000\n",
      "Epoch 6/10\n",
      "622/622 [==============================] - 3s 4ms/step - loss: 0.0048 - accuracy: 0.9990 - val_loss: 1.9788e-05 - val_accuracy: 1.0000\n",
      "Epoch 7/10\n",
      "622/622 [==============================] - 3s 4ms/step - loss: 0.0083 - accuracy: 0.9975 - val_loss: 5.0814e-05 - val_accuracy: 1.0000\n",
      "Epoch 8/10\n",
      "622/622 [==============================] - 3s 4ms/step - loss: 0.0041 - accuracy: 0.9987 - val_loss: 6.8869e-06 - val_accuracy: 1.0000\n",
      "Epoch 9/10\n",
      "622/622 [==============================] - 3s 4ms/step - loss: 0.0096 - accuracy: 0.9964 - val_loss: 3.6733e-06 - val_accuracy: 1.0000\n",
      "Epoch 10/10\n",
      "622/622 [==============================] - 3s 4ms/step - loss: 0.0059 - accuracy: 0.9982 - val_loss: 8.1353e-05 - val_accuracy: 1.0000\n"
     ]
    }
   ],
   "source": [
    "epochs = 10\n",
    "checkpoint = callbacks.ModelCheckpoint('./Models/model.h5', monitor='val_loss', save_best_only=True)\n",
    "earlystopping = callbacks.EarlyStopping(monitor='val_loss', patience=5, restore_best_weights=True)\n",
    "\n",
    "hist = model.fit(   X_train, Y_train,\n",
    "                    validation_split=0.25,\n",
    "                    epochs = epochs,\n",
    "                    callbacks = [checkpoint, earlystopping],\n",
    "                    verbose=1   )"
   ]
  },
  {
   "cell_type": "code",
   "execution_count": null,
   "metadata": {},
   "outputs": [],
   "source": []
  },
  {
   "cell_type": "code",
   "execution_count": null,
   "metadata": {},
   "outputs": [
    {
     "name": "stdout",
     "output_type": "stream",
     "text": [
      "208/208 [==============================] - 0s 1ms/step - loss: 7.8600e-05 - accuracy: 1.0000\n"
     ]
    }
   ],
   "source": [
    "score = model.evaluate(X_test, Y_test)"
   ]
  },
  {
   "cell_type": "markdown",
   "metadata": {},
   "source": [
    "### 학습 그래프"
   ]
  },
  {
   "cell_type": "code",
   "execution_count": null,
   "metadata": {},
   "outputs": [
    {
     "data": {
      "image/png": "[encoded data removed]",
      "text/plain": [
       "<Figure size 864x576 with 1 Axes>"
      ]
     },
     "metadata": {
      "needs_background": "light"
     },
     "output_type": "display_data"
    }
   ],
   "source": [
    "plt.figure(figsize=(12,8))\n",
    "plt.plot(hist.history['accuracy'], label='train accuracy')\n",
    "\n",
    "plt.ylim(0.85,1.01)\n",
    "\n",
    "plt.legend(), plt.grid\n",
    "plt.show()"
   ]
  },
  {
   "cell_type": "code",
   "execution_count": null,
   "metadata": {},
   "outputs": [
    {
     "data": {
      "image/png": "[encoded data removed]",
      "text/plain": [
       "<Figure size 864x576 with 1 Axes>"
      ]
     },
     "metadata": {
      "needs_background": "light"
     },
     "output_type": "display_data"
    }
   ],
   "source": [
    "plt.figure(figsize=(12,8))\n",
    "plt.plot(hist.history['val_loss'], label='validation loss')\n",
    "\n",
    "plt.ylim(-0.01, 0.4)\n",
    "\n",
    "plt.legend(), plt.grid\n",
    "plt.show()"
   ]
  },
  {
   "cell_type": "markdown",
   "metadata": {},
   "source": [
    "### 모델 평가"
   ]
  },
  {
   "cell_type": "code",
   "execution_count": null,
   "metadata": {},
   "outputs": [
    {
     "data": {
      "text/plain": [
       "array([[2.2148438e-07, 4.8794085e-08, 7.8772420e-09, ..., 1.2227476e-06,\n",
       "        9.9999845e-01, 2.8502500e-09],\n",
       "       [9.6437134e-07, 3.6294544e-08, 9.9999714e-01, ..., 1.2552500e-06,\n",
       "        1.9617650e-07, 1.2713346e-08],\n",
       "       [2.1976999e-07, 4.8464070e-08, 7.8708586e-09, ..., 1.2253882e-06,\n",
       "        9.9999845e-01, 2.8240050e-09],\n",
       "       ...,\n",
       "       [3.4161856e-06, 9.9999487e-01, 1.1344443e-08, ..., 2.4496416e-07,\n",
       "        1.0357987e-06, 2.0474273e-07],\n",
       "       [9.6437043e-07, 3.6294544e-08, 9.9999714e-01, ..., 1.2552500e-06,\n",
       "        1.9617613e-07, 1.2713297e-08],\n",
       "       [9.6437134e-07, 3.6294544e-08, 9.9999714e-01, ..., 1.2552500e-06,\n",
       "        1.9617652e-07, 1.2713322e-08]], dtype=float32)"
      ]
     },
     "execution_count": 18,
     "metadata": {},
     "output_type": "execute_result"
    }
   ],
   "source": [
    "model = load_model('./Models/model.h5')\n",
    "\n",
    "Y_pred = model.predict(X_test)\n",
    "Y_pred"
   ]
  },
  {
   "cell_type": "code",
   "execution_count": null,
   "metadata": {},
   "outputs": [
    {
     "data": {
      "text/plain": [
       "array([[[6178,    0],\n",
       "        [   0,  447]],\n",
       "\n",
       "       [[5942,    0],\n",
       "        [   0,  683]],\n",
       "\n",
       "       [[5422,    0],\n",
       "        [   0, 1203]],\n",
       "\n",
       "       [[5887,    0],\n",
       "        [   0,  738]],\n",
       "\n",
       "       [[5431,    0],\n",
       "        [   0, 1194]],\n",
       "\n",
       "       [[5448,    0],\n",
       "        [   0, 1177]],\n",
       "\n",
       "       [[5442,    0],\n",
       "        [   0, 1183]]], dtype=int64)"
      ]
     },
     "execution_count": 19,
     "metadata": {},
     "output_type": "execute_result"
    }
   ],
   "source": [
    "multilabel_confusion_matrix(np.argmax(Y_test, axis=1), np.argmax(Y_pred, axis=1))"
   ]
  },
  {
   "cell_type": "code",
   "execution_count": null,
   "metadata": {},
   "outputs": [],
   "source": []
  }
 ],
 "metadata": {
  "interpreter": {
   "hash": "b3684562efed9d44592b610a8f8a2b0b723925e822dbc8078ff007ea2160eabd"
  },
  "kernelspec": {
   "display_name": "Python 3.9.12 ('MLDL')",
   "language": "python",
   "name": "python3"
  },
  "language_info": {
   "codemirror_mode": {
    "name": "ipython",
    "version": 3
   },
   "file_extension": ".py",
   "mimetype": "text/x-python",
   "name": "python",
   "nbconvert_exporter": "python",
   "pygments_lexer": "ipython3",
   "version": "3.9.12"
  },
  "orig_nbformat": 4
 },
 "nbformat": 4,
 "nbformat_minor": 2
}
