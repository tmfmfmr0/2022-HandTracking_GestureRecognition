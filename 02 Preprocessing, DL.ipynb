{
 "cells": [
  {
   "cell_type": "code",
   "execution_count": 1,
   "metadata": {},
   "outputs": [],
   "source": [
    "import os\n",
    "import numpy as np\n",
    "\n",
    "from keras.utils.np_utils import to_categorical\n",
    "from sklearn.model_selection import train_test_split\n",
    "\n",
    "from keras.models import Sequential\n",
    "from keras import layers, callbacks\n",
    "\n",
    "from keras.models import load_model\n",
    "from sklearn.metrics import multilabel_confusion_matrix\n",
    "\n",
    "import matplotlib.pyplot as plt"
   ]
  },
  {
   "cell_type": "code",
   "execution_count": 2,
   "metadata": {},
   "outputs": [],
   "source": [
    "# 제스처 좌표데이터셋 목록 읽어오기\n",
    "file_list = os.listdir(\"./Dataset\")\n",
    "\n",
    "# 파일 확장자 빼고 제스처 이름만 저장\n",
    "actions = []\n",
    "for i in range(len(file_list)) :\n",
    "    actions.append(file_list[i][:-4])\n",
    "\n",
    "\n",
    "# 회전변환 행렬\n",
    "def Rx(theta) :\n",
    "    return np.array([[1,        0,              0      ], \n",
    "                    [ 0,  np.cos(theta), -np.sin(theta)], \n",
    "                    [ 0,  np.sin(theta),  np.cos(theta)]])\n",
    "def Ry(theta) :\n",
    "    return np.array([[np.cos(theta),  0,  np.sin(theta)], \n",
    "                    [       0,        1,        0      ],\n",
    "                    [-np.sin(theta),  0,  np.cos(theta)]])\n",
    "def Rz(theta) :\n",
    "    return np.array([[np.cos(theta), -np.sin(theta),  0  ], \n",
    "                    [ np.sin(theta),  np.cos(theta),  0  ], \n",
    "                    [       0,              0,        1  ]])\n",
    "    \n",
    "# 각 축을 기준으로 회전변환할 각도 (x, y, z 축 기준 회전각 : pitch, yaw, roll)\n",
    "rotation_degree_x = np.deg2rad([0, 5,10,20,30, 355,350,340,330])\n",
    "rotation_degree_y = np.deg2rad([0, 5,10,20,30, 355,350,340,330])\n",
    "rotation_degree_z = np.deg2rad([0, 30,60,90,120,150,180,210,240,270,300,330])\n",
    "\n",
    "\n",
    "# 시퀀스 길이\n",
    "seq_length = 15"
   ]
  },
  {
   "cell_type": "code",
   "execution_count": 3,
   "metadata": {},
   "outputs": [],
   "source": [
    "data_X = np.zeros((1, seq_length, 24))    # 24는 angle데이터 길이\n",
    "data_Y = np.zeros(1)\n",
    "\n",
    "# 각 제스처 좌표 데이터셋마다\n",
    "for action_index, action_name in enumerate(actions):\n",
    "    loaded = np.load(f'./Dataset/{actions[action_index]}.npy')\n",
    "\n",
    "    # 각 회전마다\n",
    "    for rdz in rotation_degree_z :\n",
    "        for rdy in rotation_degree_y :\n",
    "            for rdx in rotation_degree_x :\n",
    "                \n",
    "                data_list_X, data_list_y = [], []\n",
    "                angle_data = []\n",
    "                \n",
    "                # 제스처데이터 각 프레임마다\n",
    "                for fr in range(len(loaded)) :\n",
    "                    coord = []\n",
    "                    \n",
    "                    # 각 프레임의 모든 랜드마크 좌표 회전변환\n",
    "                    for lm in range(21) :    \n",
    "                        coord.append( loaded[fr][lm] @ Rz(rdz) @ Ry(rdy) @ Rx(rdx) )\n",
    "                    \n",
    "                    coord = np.array(coord)\n",
    "\n",
    "                    a = coord[[ 5,  1,2,3,  5,6,7,   9,10,11,  13,14,15,  17,18,19,  0, 0], :]\n",
    "                    b = coord[[17,  2,3,4,  6,7,8,  10,11,12,  14,15,16,  18,19,20,  5,17], :] \n",
    "                    vec = b - a\n",
    "                    vec_unit = vec / np.linalg.norm(vec, axis=1)[:, np.newaxis]\n",
    "                    \n",
    "                    angle = np.arccos( np.einsum('ij, ij->i',\n",
    "                        vec_unit[[0,1,2,  0,4,5,  0,7,8,   0,10,11,   0,13,14,  3,6,9,12,15,  6,9,12,15], :], \n",
    "                        vec_unit[[1,2,3,  4,5,6,  7,8,9,  10,11,12,  13,14,15,  0,0,0, 0, 0,  2,2, 2, 2], :]))\n",
    "\n",
    "                    angle_data.append(np.degrees(angle))\n",
    "                \n",
    "                # 시퀀스길이에 따라 시퀀스데이터로 변환\n",
    "                for i in range(len(angle_data) - seq_length):\n",
    "                    data_list_X.append(angle_data[i: i + seq_length])\n",
    "                    data_list_y.append(action_index)\n",
    "\n",
    "                # 문제지, 정답지\n",
    "                data_X = np.append(data_X, data_list_X, axis=0)\n",
    "                data_Y = np.append(data_Y, data_list_y, axis=0)"
   ]
  },
  {
   "cell_type": "code",
   "execution_count": 4,
   "metadata": {},
   "outputs": [],
   "source": [
    "X = data_X[1:]\n",
    "Y = data_Y[1:]"
   ]
  },
  {
   "cell_type": "code",
   "execution_count": 5,
   "metadata": {},
   "outputs": [],
   "source": [
    "Y = to_categorical(Y, num_classes=len(actions))"
   ]
  },
  {
   "cell_type": "code",
   "execution_count": 6,
   "metadata": {},
   "outputs": [],
   "source": [
    "X_train, X_test, Y_train, Y_test = train_test_split(X, Y, test_size=0.2)"
   ]
  },
  {
   "cell_type": "code",
   "execution_count": 7,
   "metadata": {},
   "outputs": [],
   "source": [
    "model1 = Sequential([\n",
    "    layers.GRU(48, input_shape = X_train.shape[1:], activation='tanh'),\n",
    "    layers.Dense(24, activation='relu'),\n",
    "    layers.Dense(len(actions), activation='softmax')\n",
    "])\n",
    "\n",
    "model1.compile(optimizer='adam', loss='categorical_crossentropy', metrics='accuracy')\n",
    "\n",
    "model1.summary()"
   ]
  },
  {
   "cell_type": "code",
   "execution_count": 9,
   "metadata": {},
   "outputs": [
    {
     "name": "stdout",
     "output_type": "stream",
     "text": [
      "Model: \"sequential\"\n",
      "_________________________________________________________________\n",
      " Layer (type)                Output Shape              Param #   \n",
      "=================================================================\n",
      " gru (GRU)                   (None, 24)                3600      \n",
      "                                                                 \n",
      " dense (Dense)               (None, 4)                 100       \n",
      "                                                                 \n",
      "=================================================================\n",
      "Total params: 3,700\n",
      "Trainable params: 3,700\n",
      "Non-trainable params: 0\n",
      "_________________________________________________________________\n"
     ]
    }
   ],
   "source": [
    "model = Sequential([\n",
    "    layers.GRU(24, input_shape = X_train.shape[1:], activation='tanh'),\n",
    "    layers.Dense(len(actions), activation='softmax')\n",
    "])\n",
    "\n",
    "model.compile(optimizer='adam', loss='categorical_crossentropy', metrics='accuracy')\n",
    "\n",
    "model.summary()"
   ]
  },
  {
   "cell_type": "code",
   "execution_count": 10,
   "metadata": {},
   "outputs": [
    {
     "name": "stdout",
     "output_type": "stream",
     "text": [
      "Epoch 1/20\n",
      "875/875 [==============================] - 5s 4ms/step - loss: 0.2765 - accuracy: 0.9559 - val_loss: 0.0588 - val_accuracy: 1.0000\n",
      "Epoch 2/20\n",
      "875/875 [==============================] - 3s 4ms/step - loss: 0.0346 - accuracy: 1.0000 - val_loss: 0.0198 - val_accuracy: 1.0000\n",
      "Epoch 3/20\n",
      "875/875 [==============================] - 3s 4ms/step - loss: 0.0137 - accuracy: 1.0000 - val_loss: 0.0087 - val_accuracy: 1.0000\n",
      "Epoch 4/20\n",
      "875/875 [==============================] - 3s 4ms/step - loss: 0.0061 - accuracy: 1.0000 - val_loss: 0.0044 - val_accuracy: 1.0000\n",
      "Epoch 5/20\n",
      "875/875 [==============================] - 3s 4ms/step - loss: 0.0034 - accuracy: 1.0000 - val_loss: 0.0026 - val_accuracy: 1.0000\n",
      "Epoch 6/20\n",
      "875/875 [==============================] - 3s 4ms/step - loss: 0.0021 - accuracy: 1.0000 - val_loss: 0.0017 - val_accuracy: 1.0000\n",
      "Epoch 7/20\n",
      "875/875 [==============================] - 3s 4ms/step - loss: 0.0014 - accuracy: 1.0000 - val_loss: 0.0011 - val_accuracy: 1.0000\n",
      "Epoch 8/20\n",
      "875/875 [==============================] - 3s 4ms/step - loss: 8.7563e-04 - accuracy: 1.0000 - val_loss: 6.8539e-04 - val_accuracy: 1.0000\n",
      "Epoch 9/20\n",
      "875/875 [==============================] - 3s 4ms/step - loss: 5.6579e-04 - accuracy: 1.0000 - val_loss: 4.4212e-04 - val_accuracy: 1.0000\n",
      "Epoch 10/20\n",
      "875/875 [==============================] - 3s 4ms/step - loss: 3.6551e-04 - accuracy: 1.0000 - val_loss: 2.8549e-04 - val_accuracy: 1.0000\n",
      "Epoch 11/20\n",
      "875/875 [==============================] - 3s 4ms/step - loss: 2.3619e-04 - accuracy: 1.0000 - val_loss: 1.8423e-04 - val_accuracy: 1.0000\n",
      "Epoch 12/20\n",
      "875/875 [==============================] - 3s 4ms/step - loss: 1.5231e-04 - accuracy: 1.0000 - val_loss: 1.1851e-04 - val_accuracy: 1.0000\n",
      "Epoch 13/20\n",
      "875/875 [==============================] - 3s 4ms/step - loss: 9.7871e-05 - accuracy: 1.0000 - val_loss: 7.6070e-05 - val_accuracy: 1.0000\n",
      "Epoch 14/20\n",
      "875/875 [==============================] - 3s 4ms/step - loss: 6.2671e-05 - accuracy: 1.0000 - val_loss: 4.8487e-05 - val_accuracy: 1.0000\n",
      "Epoch 15/20\n",
      "875/875 [==============================] - 3s 4ms/step - loss: 3.9811e-05 - accuracy: 1.0000 - val_loss: 3.0315e-05 - val_accuracy: 1.0000\n",
      "Epoch 16/20\n",
      "875/875 [==============================] - 3s 4ms/step - loss: 2.3015e-05 - accuracy: 1.0000 - val_loss: 1.5317e-05 - val_accuracy: 1.0000\n",
      "Epoch 17/20\n",
      "875/875 [==============================] - 3s 4ms/step - loss: 1.1711e-05 - accuracy: 1.0000 - val_loss: 8.5524e-06 - val_accuracy: 1.0000\n",
      "Epoch 18/20\n",
      "875/875 [==============================] - 3s 4ms/step - loss: 6.8387e-06 - accuracy: 1.0000 - val_loss: 5.2199e-06 - val_accuracy: 1.0000\n",
      "Epoch 19/20\n",
      "875/875 [==============================] - 3s 4ms/step - loss: 4.2411e-06 - accuracy: 1.0000 - val_loss: 3.2625e-06 - val_accuracy: 1.0000\n",
      "Epoch 20/20\n",
      "875/875 [==============================] - 3s 4ms/step - loss: 2.6878e-06 - accuracy: 1.0000 - val_loss: 2.0964e-06 - val_accuracy: 1.0000\n"
     ]
    }
   ],
   "source": [
    "epochs = 20\n",
    "checkpoint = callbacks.ModelCheckpoint('./Models/model.h5', monitor='val_loss', save_best_only=True)\n",
    "earlystopping = callbacks.EarlyStopping(monitor='val_loss', patience=5, restore_best_weights=True)\n",
    "\n",
    "hist = model.fit(   X_train, Y_train,\n",
    "                    validation_split=0.2,\n",
    "                    epochs = epochs,\n",
    "                    callbacks = [checkpoint, earlystopping],\n",
    "                    verbose=1   )"
   ]
  },
  {
   "cell_type": "code",
   "execution_count": 11,
   "metadata": {},
   "outputs": [
    {
     "name": "stdout",
     "output_type": "stream",
     "text": [
      "274/274 [==============================] - 0s 1ms/step - loss: 2.1659e-06 - accuracy: 1.0000\n"
     ]
    }
   ],
   "source": [
    "score = model.evaluate(X_test, Y_test)"
   ]
  },
  {
   "cell_type": "markdown",
   "metadata": {},
   "source": [
    "### 학습 그래프"
   ]
  },
  {
   "cell_type": "code",
   "execution_count": 12,
   "metadata": {},
   "outputs": [
    {
     "data": {
      "image/png": "[encoded data removed]",
      "text/plain": [
       "<Figure size 864x576 with 1 Axes>"
      ]
     },
     "metadata": {
      "needs_background": "light"
     },
     "output_type": "display_data"
    }
   ],
   "source": [
    "plt.figure(figsize=(12,8))\n",
    "plt.plot(hist.history['accuracy'], label='train accuracy')\n",
    "plt.plot(hist.history['val_loss'], label='validation loss')\n",
    "\n",
    "plt.xlim(-1,5)\n",
    "\n",
    "plt.legend(), plt.grid\n",
    "plt.show()"
   ]
  },
  {
   "cell_type": "markdown",
   "metadata": {},
   "source": [
    "### 모델 평가"
   ]
  },
  {
   "cell_type": "code",
   "execution_count": 13,
   "metadata": {},
   "outputs": [
    {
     "data": {
      "text/plain": [
       "array([[9.9999785e-01, 1.0509772e-06, 1.9417756e-07, 8.3934998e-07],\n",
       "       [9.9999785e-01, 1.0510844e-06, 1.9419683e-07, 8.3935237e-07],\n",
       "       [9.9494486e-08, 9.9999964e-01, 2.0067813e-07, 6.3788447e-11],\n",
       "       ...,\n",
       "       [5.3424365e-08, 3.6524650e-08, 1.0000000e+00, 4.7611914e-10],\n",
       "       [9.9999785e-01, 1.0510844e-06, 1.9419683e-07, 8.3935237e-07],\n",
       "       [6.9064168e-07, 9.9999845e-01, 8.2894223e-07, 7.7453183e-12]],\n",
       "      dtype=float32)"
      ]
     },
     "execution_count": 13,
     "metadata": {},
     "output_type": "execute_result"
    }
   ],
   "source": [
    "model = load_model('models/model.h5')\n",
    "\n",
    "Y_pred = model.predict(X_test)\n",
    "Y_pred"
   ]
  },
  {
   "cell_type": "code",
   "execution_count": 14,
   "metadata": {},
   "outputs": [
    {
     "data": {
      "text/plain": [
       "array([[[6751,    0],\n",
       "        [   0, 1997]],\n",
       "\n",
       "       [[6660,    0],\n",
       "        [   0, 2088]],\n",
       "\n",
       "       [[6473,    0],\n",
       "        [   0, 2275]],\n",
       "\n",
       "       [[6360,    0],\n",
       "        [   0, 2388]]], dtype=int64)"
      ]
     },
     "execution_count": 14,
     "metadata": {},
     "output_type": "execute_result"
    }
   ],
   "source": [
    "multilabel_confusion_matrix(np.argmax(Y_test, axis=1), np.argmax(Y_pred, axis=1))"
   ]
  },
  {
   "cell_type": "code",
   "execution_count": null,
   "metadata": {},
   "outputs": [],
   "source": []
  }
 ],
 "metadata": {
  "interpreter": {
   "hash": "b3684562efed9d44592b610a8f8a2b0b723925e822dbc8078ff007ea2160eabd"
  },
  "kernelspec": {
   "display_name": "Python 3.9.12 ('MLDL')",
   "language": "python",
   "name": "python3"
  },
  "language_info": {
   "codemirror_mode": {
    "name": "ipython",
    "version": 3
   },
   "file_extension": ".py",
   "mimetype": "text/x-python",
   "name": "python",
   "nbconvert_exporter": "python",
   "pygments_lexer": "ipython3",
   "version": "3.9.12"
  },
  "orig_nbformat": 4
 },
 "nbformat": 4,
 "nbformat_minor": 2
}
