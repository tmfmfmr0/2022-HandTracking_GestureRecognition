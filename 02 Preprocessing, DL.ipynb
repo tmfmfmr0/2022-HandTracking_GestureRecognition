{
 "cells": [
  {
   "cell_type": "code",
   "execution_count": 4,
   "metadata": {},
   "outputs": [],
   "source": [
    "import os\n",
    "import numpy as np\n",
    "\n",
    "from keras.utils.np_utils import to_categorical\n",
    "from sklearn.model_selection import train_test_split\n",
    "\n",
    "from keras.models import Sequential\n",
    "from keras import layers, callbacks\n",
    "\n",
    "from keras.models import load_model\n",
    "from sklearn.metrics import multilabel_confusion_matrix\n",
    "\n",
    "import matplotlib.pyplot as plt"
   ]
  },
  {
   "cell_type": "code",
   "execution_count": 5,
   "metadata": {},
   "outputs": [],
   "source": [
    "# 제스처 좌표데이터셋 목록 읽어오기\n",
    "file_list = os.listdir(\"./Dataset\")\n",
    "\n",
    "# 파일 확장자 빼고 제스처 이름만 저장\n",
    "actions = []\n",
    "for i in range(len(file_list)) :\n",
    "    actions.append(file_list[i][:-4])\n",
    "\n",
    "\n",
    "# 회전변환 행렬\n",
    "def Rx(theta) :\n",
    "    return np.array([[1,        0,              0      ], \n",
    "                    [ 0,  np.cos(theta), -np.sin(theta)], \n",
    "                    [ 0,  np.sin(theta),  np.cos(theta)]])\n",
    "def Ry(theta) :\n",
    "    return np.array([[np.cos(theta),  0,  np.sin(theta)], \n",
    "                    [       0,        1,        0      ],\n",
    "                    [-np.sin(theta),  0,  np.cos(theta)]])\n",
    "def Rz(theta) :\n",
    "    return np.array([[np.cos(theta), -np.sin(theta),  0  ], \n",
    "                    [ np.sin(theta),  np.cos(theta),  0  ], \n",
    "                    [       0,              0,        1  ]])\n",
    "    \n",
    "# 각 축을 기준으로 회전변환할 각도 (x, y, z 축 기준 회전각 : pitch, yaw, roll)\n",
    "rotation_degree_x = np.deg2rad([0, 5,10,20,30, 355,350,340,330])\n",
    "rotation_degree_y = np.deg2rad([0, 5,10,20,30, 355,350,340,330])\n",
    "rotation_degree_z = np.deg2rad([0, 30,60,90,120,150,180,210,240,270,300,330])\n",
    "\n",
    "\n",
    "# 시퀀스 길이\n",
    "seq_length = 15"
   ]
  },
  {
   "cell_type": "code",
   "execution_count": 6,
   "metadata": {},
   "outputs": [],
   "source": [
    "data_X = np.zeros((1, seq_length, 24))    # 24는 angle데이터 길이\n",
    "data_Y = np.zeros(1)\n",
    "\n",
    "# 각 제스처 좌표 데이터셋마다\n",
    "for action_index, action_name in enumerate(actions):\n",
    "    loaded = np.load(f'./Dataset/{actions[action_index]}.npy')\n",
    "\n",
    "    # 각 회전마다\n",
    "    for rdz in rotation_degree_z :\n",
    "        for rdy in rotation_degree_y :\n",
    "            for rdx in rotation_degree_x :\n",
    "                \n",
    "                data_list_X, data_list_y = [], []\n",
    "                angle_data = []\n",
    "                \n",
    "                # 제스처데이터 각 프레임마다\n",
    "                for fr in range(len(loaded)) :\n",
    "                    coord = []\n",
    "                    \n",
    "                    # 각 프레임의 모든 랜드마크 좌표 회전변환\n",
    "                    for lm in range(21) :    \n",
    "                        coord.append( loaded[fr][lm] @ Rz(rdz) @ Ry(rdy) @ Rx(rdx) )\n",
    "                    \n",
    "                    coord = np.array(coord)\n",
    "\n",
    "                    a = coord[[ 5,  1,2,3,  5,6,7,   9,10,11,  13,14,15,  17,18,19,  0, 0], :]\n",
    "                    b = coord[[17,  2,3,4,  6,7,8,  10,11,12,  14,15,16,  18,19,20,  5,17], :] \n",
    "                    vec = b - a\n",
    "\n",
    "                    vec_unit = vec / np.linalg.norm(vec, axis=1)[:, np.newaxis]\n",
    "                    \n",
    "                    angle = np.arccos( np.einsum('ij, ij->i',\n",
    "                        vec_unit[[0,1,2,  0,4,5,  0,7,8,   0,10,11,   0,13,14,  3,6,9,12,15,  6,9,12,15], :], \n",
    "                        vec_unit[[1,2,3,  4,5,6,  7,8,9,  10,11,12,  13,14,15,  0,0,0, 0, 0,  2,2, 2, 2], :]))\n",
    "\n",
    "                    angle_data.append(np.degrees(angle))\n",
    "                \n",
    "                # 시퀀스길이에 따라 시퀀스데이터로 변환\n",
    "                for i in range(len(angle_data) - seq_length):\n",
    "                    data_list_X.append(angle_data[i: i + seq_length])\n",
    "                    data_list_y.append(action_index)\n",
    "\n",
    "                # 문제지, 정답지\n",
    "                data_X = np.append(data_X, data_list_X, axis=0)\n",
    "                data_Y = np.append(data_Y, data_list_y, axis=0)"
   ]
  },
  {
   "cell_type": "code",
   "execution_count": 7,
   "metadata": {},
   "outputs": [],
   "source": [
    "X = data_X[1:]\n",
    "Y = data_Y[1:]"
   ]
  },
  {
   "cell_type": "code",
   "execution_count": 8,
   "metadata": {},
   "outputs": [],
   "source": [
    "Y = to_categorical(Y, num_classes=len(actions))"
   ]
  },
  {
   "cell_type": "code",
   "execution_count": 9,
   "metadata": {},
   "outputs": [],
   "source": [
    "X_train, X_test, Y_train, Y_test = train_test_split(X, Y, test_size=0.2)"
   ]
  },
  {
   "cell_type": "code",
   "execution_count": 10,
   "metadata": {},
   "outputs": [],
   "source": [
    "model = Sequential([\n",
    "    layers.GRU(48, input_shape = X_train.shape[1:], activation='tanh'),\n",
    "    layers.Dense(24, activation='relu'),\n",
    "    layers.Dense(len(actions), activation='softmax')\n",
    "])\n",
    "\n",
    "model.compile(optimizer='adam', loss='categorical_crossentropy', metrics='accuracy')"
   ]
  },
  {
   "cell_type": "code",
   "execution_count": 11,
   "metadata": {},
   "outputs": [
    {
     "name": "stdout",
     "output_type": "stream",
     "text": [
      "Epoch 1/20\n",
      "875/875 [==============================] - 5s 4ms/step - loss: 0.0633 - accuracy: 0.9870 - val_loss: 8.1786e-04 - val_accuracy: 1.0000\n",
      "Epoch 2/20\n",
      "875/875 [==============================] - 3s 4ms/step - loss: 4.1082e-04 - accuracy: 1.0000 - val_loss: 2.0326e-04 - val_accuracy: 1.0000\n",
      "Epoch 3/20\n",
      "875/875 [==============================] - 3s 4ms/step - loss: 1.3027e-04 - accuracy: 1.0000 - val_loss: 8.1233e-05 - val_accuracy: 1.0000\n",
      "Epoch 4/20\n",
      "875/875 [==============================] - 3s 4ms/step - loss: 5.8417e-05 - accuracy: 1.0000 - val_loss: 4.0663e-05 - val_accuracy: 1.0000\n",
      "Epoch 5/20\n",
      "875/875 [==============================] - 3s 4ms/step - loss: 3.0666e-05 - accuracy: 1.0000 - val_loss: 2.2409e-05 - val_accuracy: 1.0000\n",
      "Epoch 6/20\n",
      "875/875 [==============================] - 3s 4ms/step - loss: 1.7316e-05 - accuracy: 1.0000 - val_loss: 1.2941e-05 - val_accuracy: 1.0000\n",
      "Epoch 7/20\n",
      "875/875 [==============================] - 3s 4ms/step - loss: 1.0138e-05 - accuracy: 1.0000 - val_loss: 7.7054e-06 - val_accuracy: 1.0000\n",
      "Epoch 8/20\n",
      "875/875 [==============================] - 3s 4ms/step - loss: 6.0592e-06 - accuracy: 1.0000 - val_loss: 4.6326e-06 - val_accuracy: 1.0000\n",
      "Epoch 9/20\n",
      "875/875 [==============================] - 3s 4ms/step - loss: 3.6648e-06 - accuracy: 1.0000 - val_loss: 2.7939e-06 - val_accuracy: 1.0000\n",
      "Epoch 10/20\n",
      "875/875 [==============================] - 3s 4ms/step - loss: 2.2249e-06 - accuracy: 1.0000 - val_loss: 1.7525e-06 - val_accuracy: 1.0000\n",
      "Epoch 11/20\n",
      "875/875 [==============================] - 3s 4ms/step - loss: 1.3561e-06 - accuracy: 1.0000 - val_loss: 1.0129e-06 - val_accuracy: 1.0000\n",
      "Epoch 12/20\n",
      "875/875 [==============================] - 3s 4ms/step - loss: 8.0727e-07 - accuracy: 1.0000 - val_loss: 6.2710e-07 - val_accuracy: 1.0000\n",
      "Epoch 13/20\n",
      "875/875 [==============================] - 3s 4ms/step - loss: 4.9888e-07 - accuracy: 1.0000 - val_loss: 4.0537e-07 - val_accuracy: 1.0000\n",
      "Epoch 14/20\n",
      "875/875 [==============================] - 3s 4ms/step - loss: 3.0999e-07 - accuracy: 1.0000 - val_loss: 2.3152e-07 - val_accuracy: 1.0000\n",
      "Epoch 15/20\n",
      "875/875 [==============================] - 3s 4ms/step - loss: 1.9219e-07 - accuracy: 1.0000 - val_loss: 1.6905e-07 - val_accuracy: 1.0000\n",
      "Epoch 16/20\n",
      "875/875 [==============================] - 3s 4ms/step - loss: 1.3605e-07 - accuracy: 1.0000 - val_loss: 1.0328e-07 - val_accuracy: 1.0000\n",
      "Epoch 17/20\n",
      "875/875 [==============================] - 3s 4ms/step - loss: 5.4884e-08 - accuracy: 1.0000 - val_loss: 3.1288e-08 - val_accuracy: 1.0000\n",
      "Epoch 18/20\n",
      "875/875 [==============================] - 3s 4ms/step - loss: 1.3568e-08 - accuracy: 1.0000 - val_loss: 5.1949e-09 - val_accuracy: 1.0000\n",
      "Epoch 19/20\n",
      "875/875 [==============================] - 3s 4ms/step - loss: 5.0506e-09 - accuracy: 1.0000 - val_loss: 2.6400e-09 - val_accuracy: 1.0000\n",
      "Epoch 20/20\n",
      "875/875 [==============================] - 3s 4ms/step - loss: 1.5118e-09 - accuracy: 1.0000 - val_loss: 0.0000e+00 - val_accuracy: 1.0000\n"
     ]
    }
   ],
   "source": [
    "epochs = 20\n",
    "checkpoint = callbacks.ModelCheckpoint('./Models/model.h5', monitor='val_loss', save_best_only=True)\n",
    "earlystopping = callbacks.EarlyStopping(monitor='val_loss', patience=5, restore_best_weights=True)\n",
    "\n",
    "hist = model.fit(   X_train, Y_train,\n",
    "                    validation_split=0.2,\n",
    "                    epochs = epochs,\n",
    "                    callbacks = [checkpoint, earlystopping],\n",
    "                    verbose=1   )"
   ]
  },
  {
   "cell_type": "code",
   "execution_count": 12,
   "metadata": {},
   "outputs": [
    {
     "name": "stdout",
     "output_type": "stream",
     "text": [
      "274/274 [==============================] - 0s 1ms/step - loss: 0.0000e+00 - accuracy: 1.0000\n"
     ]
    }
   ],
   "source": [
    "score = model.evaluate(X_test, Y_test)"
   ]
  },
  {
   "cell_type": "markdown",
   "metadata": {},
   "source": [
    "### 학습 그래프"
   ]
  },
  {
   "cell_type": "code",
   "execution_count": 13,
   "metadata": {},
   "outputs": [
    {
     "data": {
      "image/png": "[encoded data removed]",
      "text/plain": [
       "<Figure size 864x576 with 1 Axes>"
      ]
     },
     "metadata": {
      "needs_background": "light"
     },
     "output_type": "display_data"
    }
   ],
   "source": [
    "plt.figure(figsize=(12,8))\n",
    "plt.plot(hist.history['accuracy'], label='train accuracy')\n",
    "plt.plot(hist.history['val_loss'], label='validation loss')\n",
    "\n",
    "plt.xlim(-1,5)\n",
    "\n",
    "plt.legend(), plt.grid\n",
    "plt.show()"
   ]
  },
  {
   "cell_type": "markdown",
   "metadata": {},
   "source": [
    "### 모델 평가"
   ]
  },
  {
   "cell_type": "code",
   "execution_count": 14,
   "metadata": {},
   "outputs": [
    {
     "data": {
      "text/plain": [
       "array([[2.4262343e-09, 1.0425042e-08, 1.0000000e+00, 8.4420062e-09],\n",
       "       [1.0000000e+00, 1.3095949e-08, 1.2876622e-08, 2.2315362e-08],\n",
       "       [3.4380370e-09, 3.6005587e-09, 1.3209341e-08, 1.0000000e+00],\n",
       "       ...,\n",
       "       [6.2228689e-09, 9.1045811e-09, 1.5912855e-08, 1.0000000e+00],\n",
       "       [1.0000000e+00, 1.3057663e-08, 1.2790362e-08, 2.2185160e-08],\n",
       "       [3.2954548e-09, 3.3970884e-09, 1.3329662e-08, 1.0000000e+00]],\n",
       "      dtype=float32)"
      ]
     },
     "execution_count": 14,
     "metadata": {},
     "output_type": "execute_result"
    }
   ],
   "source": [
    "model = load_model('models/model.h5')\n",
    "\n",
    "Y_pred = model.predict(X_test)\n",
    "Y_pred"
   ]
  },
  {
   "cell_type": "code",
   "execution_count": 15,
   "metadata": {},
   "outputs": [
    {
     "data": {
      "text/plain": [
       "array([[[6832,    0],\n",
       "        [   0, 1916]],\n",
       "\n",
       "       [[6622,    0],\n",
       "        [   0, 2126]],\n",
       "\n",
       "       [[6363,    0],\n",
       "        [   0, 2385]],\n",
       "\n",
       "       [[6427,    0],\n",
       "        [   0, 2321]]], dtype=int64)"
      ]
     },
     "execution_count": 15,
     "metadata": {},
     "output_type": "execute_result"
    }
   ],
   "source": [
    "multilabel_confusion_matrix(np.argmax(Y_test, axis=1), np.argmax(Y_pred, axis=1))"
   ]
  },
  {
   "cell_type": "code",
   "execution_count": null,
   "metadata": {},
   "outputs": [],
   "source": []
  }
 ],
 "metadata": {
  "interpreter": {
   "hash": "b3684562efed9d44592b610a8f8a2b0b723925e822dbc8078ff007ea2160eabd"
  },
  "kernelspec": {
   "display_name": "Python 3.9.12 ('MLDL')",
   "language": "python",
   "name": "python3"
  },
  "language_info": {
   "codemirror_mode": {
    "name": "ipython",
    "version": 3
   },
   "file_extension": ".py",
   "mimetype": "text/x-python",
   "name": "python",
   "nbconvert_exporter": "python",
   "pygments_lexer": "ipython3",
   "version": "3.9.12"
  },
  "orig_nbformat": 4
 },
 "nbformat": 4,
 "nbformat_minor": 2
}
