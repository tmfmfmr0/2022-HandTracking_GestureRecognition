{
 "cells": [
  {
   "cell_type": "code",
   "execution_count": 1,
   "metadata": {},
   "outputs": [],
   "source": [
    "import os\n",
    "import pandas as pd\n",
    "import numpy as np"
   ]
  },
  {
   "cell_type": "code",
   "execution_count": 2,
   "metadata": {},
   "outputs": [],
   "source": [
    "# 제스처 좌표데이터셋 목록 읽어오기\n",
    "file_list = os.listdir(\"./Dataset\")\n",
    "# 파일 확장자 빼고 제스처 이름만 저장\n",
    "actions = []\n",
    "for i in range(len(file_list)) :\n",
    "    actions.append(file_list[i][:-4])\n",
    "\n",
    "\n",
    "# 회전변환 행렬\n",
    "def Rx(theta) :\n",
    "    return np.array([[1,        0,              0      ], \n",
    "                    [ 0,  np.cos(theta), -np.sin(theta)], \n",
    "                    [ 0,  np.sin(theta),  np.cos(theta)]])\n",
    "def Ry(theta) :\n",
    "    return np.array([[np.cos(theta),  0,  np.sin(theta)], \n",
    "                    [       0,        1,        0      ],\n",
    "                    [-np.sin(theta),  0,  np.cos(theta)]])\n",
    "def Rz(theta) :\n",
    "    return np.array([[np.cos(theta), -np.sin(theta),  0  ], \n",
    "                    [ np.sin(theta),  np.cos(theta),  0  ], \n",
    "                    [       0,              0,        1  ]])\n",
    "# 각 축을 기준으로 회전변환할 각도 Rotation Degree\n",
    "## x축 기준 회전각 : pitch\n",
    "rotation_degree_x = np.deg2rad([0, 5,10,20,30, 355,350,340,330])\n",
    "## y축 기준 회전각 : yaw\n",
    "rotation_degree_y = np.deg2rad([0, 5,10,20,30, 355,350,340,330])\n",
    "## z축 기준 회전각 : roll\n",
    "rotation_degree_z = np.deg2rad([0, 30,60,90,120,150,180])\n",
    "\n",
    "\n",
    "# 시퀀스 길이\n",
    "seq_length = 10"
   ]
  },
  {
   "cell_type": "markdown",
   "metadata": {},
   "source": [
    "### 회전변환, 각도변환, 시퀀스데이터 변환"
   ]
  },
  {
   "cell_type": "code",
   "execution_count": 3,
   "metadata": {},
   "outputs": [],
   "source": [
    "\n",
    "\n",
    "# 각 제스처 좌표데이터별로\n",
    "\n",
    "for action_index, action_name in enumerate(actions):\n",
    "    loaded = np.load(f'./Dataset/{actions[action_index]}.npy')\n",
    "\n",
    "    data_action_X, data_action_y = [], []\n",
    "\n",
    "    for rdz in rotation_degree_z :\n",
    "        for rdy in rotation_degree_y :\n",
    "            for rdx in rotation_degree_x :\n",
    "                \n",
    "                angle_data = []\n",
    "                \n",
    "                for fr in range(len(loaded)) :    # 제스처데이터 각 프레임마다\n",
    "                    \n",
    "                    coord = []\n",
    "                    \n",
    "                    for lm in range(21) :    # 각 프레임 각 랜드마크 마다\n",
    "                        coord.append( loaded[fr][lm] @ Rz(rdz) @ Ry(rdy) @ Rx(rdx) )\n",
    "                    \n",
    "                    coord = np.array(coord)\n",
    "\n",
    "                    a = coord[[ 5,   1,2,3,   5,6,7,    9,10,11,   13,14,15,   17,18,19,   0, 0], :]\n",
    "                    b = coord[[17,   2,3,4,   6,7,8,   10,11,12,   14,15,16,   18,19,20,   5,17], :] \n",
    "                    v = b - a\n",
    "\n",
    "                    unit_v = v / np.linalg.norm(v, axis=1)[:, np.newaxis]\n",
    "                    \n",
    "                    angle = np.arccos( np.einsum('ij, ij->i',\n",
    "                            unit_v[[0,1,2,  0,4,5,  0,7,8,   0,10,11,    0,13,14,   3,6,9,12,15,   6,9,12,15], :], \n",
    "                            unit_v[[1,2,3,  4,5,6,  7,8,9,  10,11,12,   13,14,15,   0,0,0, 0, 0,   2,2, 2, 2], :]) )\n",
    "\n",
    "                    angle_data.append(np.degrees(angle))\n",
    "                    \n",
    "                    # 시퀀스길이에 따라 시퀀스데이터로 변환\n",
    "                    for i in range(len(angle_data) - seq_length):\n",
    "                        data_action_X.append(angle_data[i: i + seq_length])\n",
    "                        data_action_y.append(i)\n",
    "                    \n",
    "                    \n"
   ]
  },
  {
   "cell_type": "code",
   "execution_count": null,
   "metadata": {},
   "outputs": [],
   "source": [
    "# gestCoord\n",
    "# coord.shape, coord\n",
    "# v.shape, v\n",
    "# unitv.shape, unitv\n",
    "# angle.shape, angle"
   ]
  },
  {
   "cell_type": "markdown",
   "metadata": {},
   "source": [
    "### 연습"
   ]
  },
  {
   "cell_type": "markdown",
   "metadata": {},
   "source": [
    "### 회전변환, 각도변환"
   ]
  },
  {
   "cell_type": "code",
   "execution_count": null,
   "metadata": {},
   "outputs": [],
   "source": [
    "loaded = np.load(f'./Dataset/{actions[i]}.npy')"
   ]
  },
  {
   "cell_type": "code",
   "execution_count": null,
   "metadata": {},
   "outputs": [],
   "source": [
    "data_X, data_y = [], []\n",
    "\n",
    "# 각 제스처 좌표데이터별로\n",
    "\n",
    "# for i, gest in enumerate(actions):\n",
    "#     loaded = np.load(f'./Dataset/{actions[i]}.npy')\n",
    "\n",
    "# 회전변환\n",
    "gest_coord = []\n",
    "for rdz in rotation_degree_z :\n",
    "    for rdy in rotation_degree_y :\n",
    "        for rdx in rotation_degree_x :\n",
    "            \n",
    "            for i in range(len(loaded)) :\n",
    "                frame = []\n",
    "                for j in range(21) :\n",
    "                    frame.append( loaded[i][j] @ Rz(rdz) @ Ry(rdy) @ Rx(rdx) )\n",
    "                    \n",
    "            gest_coord.append((frame))\n",
    "            \n",
    "coord = np.array(gest_coord)\n",
    "\n",
    "a = coord[:, [ 5,   1,2,3,   5,6,7,    9,10,11,   13,14,15,   17,18,19,   0, 0], :]\n",
    "b = coord[:, [17,   2,3,4,   6,7,8,   10,11,12,   14,15,16,   18,19,20,   5,17], :] \n",
    "v = b - a\n",
    "\n",
    "unit_v = v / np.linalg.norm(v, axis=2)[:, :, np.newaxis]\n",
    "\n",
    "angle = np.arccos( np.einsum('ijk, ijk->ij',\n",
    "                            unit_v[:, [0,1,2,  0,4,5,  0,7,8,   0,10,11,    0,13,14,   3,6,9,12,15,   6,9,12,15], :], \n",
    "                            unit_v[:, [1,2,3,  4,5,6,  7,8,9,  10,11,12,   13,14,15,   0,0,0, 0, 0,   2,2, 2, 2], :]) )\n",
    "angle = np.degrees(angle)\n"
   ]
  },
  {
   "cell_type": "code",
   "execution_count": null,
   "metadata": {},
   "outputs": [],
   "source": [
    "# gestCoord\n",
    "# coord.shape, coord\n",
    "# v.shape, v\n",
    "# unitv.shape, unitv\n",
    "angle.shape, angle"
   ]
  },
  {
   "cell_type": "code",
   "execution_count": null,
   "metadata": {},
   "outputs": [],
   "source": [
    "loaded = np.load(f'./Dataset/{actions[i]}.npy')\n",
    "# loaded"
   ]
  },
  {
   "cell_type": "code",
   "execution_count": null,
   "metadata": {},
   "outputs": [],
   "source": [
    "len(loaded)"
   ]
  },
  {
   "cell_type": "code",
   "execution_count": null,
   "metadata": {},
   "outputs": [],
   "source": [
    "loaded[0][0]"
   ]
  },
  {
   "cell_type": "code",
   "execution_count": null,
   "metadata": {},
   "outputs": [],
   "source": [
    "loaded[0][0] @ Rz(np.deg2rad(90)) @ Ry(np.deg2rad(90)) @ Rx(np.deg2rad(90))"
   ]
  },
  {
   "cell_type": "code",
   "execution_count": null,
   "metadata": {},
   "outputs": [],
   "source": [
    "np.dot( np.dot( np.dot( loaded[0][0], Rz(np.deg2rad(90)) ), Ry(np.deg2rad(90)) ), Rx(np.deg2rad(90)) )"
   ]
  },
  {
   "cell_type": "code",
   "execution_count": null,
   "metadata": {},
   "outputs": [],
   "source": [
    "a = loaded[:, [5,   1,2,3,   5,6,7,   9,10,11,   13,14,15,   17,18,19,   0,0], :]\n",
    "b = loaded[:, [17,   2,3,4,   6,7,8,   10,11,12,   14,15,16,   18,19,20,   5,17], :] \n",
    "v = b - a\n",
    "v.shape, v"
   ]
  },
  {
   "cell_type": "code",
   "execution_count": null,
   "metadata": {},
   "outputs": [],
   "source": [
    "unitv = v / np.linalg.norm(v, axis=2)[:,:,np.newaxis]\n",
    "unitv.shape, unitv"
   ]
  },
  {
   "cell_type": "code",
   "execution_count": null,
   "metadata": {},
   "outputs": [],
   "source": [
    "# 내적을 이용한 각도 계산 ( a•b = |a||b|cos(Θ) )    # 내적, cos의 역수\n",
    "angle = np.arccos( np.einsum('ijk, ijk->ij',\n",
    "                                unitv[:, [0,1,2,  0,4,5,  0,7,8,   0,10,11,    0,13,14,   3,6,9,12,15,   6,9,12,15], :], \n",
    "                                unitv[:, [1,2,3,  4,5,6,  7,8,9,  10,11,12,   13,14,15,   0,0,0, 0, 0,   2,2, 2, 2], :]) \n",
    ")\n",
    "angle.shape, angle"
   ]
  },
  {
   "cell_type": "code",
   "execution_count": null,
   "metadata": {},
   "outputs": [],
   "source": [
    "# 라디안 단위 변환\n",
    "angle = np.degrees(angle)\n",
    "angle.shape, angle"
   ]
  },
  {
   "cell_type": "markdown",
   "metadata": {},
   "source": [
    "### ㅁ"
   ]
  },
  {
   "cell_type": "code",
   "execution_count": null,
   "metadata": {},
   "outputs": [],
   "source": []
  }
 ],
 "metadata": {
  "interpreter": {
   "hash": "b3684562efed9d44592b610a8f8a2b0b723925e822dbc8078ff007ea2160eabd"
  },
  "kernelspec": {
   "display_name": "Python 3.9.12 ('MLDL')",
   "language": "python",
   "name": "python3"
  },
  "language_info": {
   "codemirror_mode": {
    "name": "ipython",
    "version": 3
   },
   "file_extension": ".py",
   "mimetype": "text/x-python",
   "name": "python",
   "nbconvert_exporter": "python",
   "pygments_lexer": "ipython3",
   "version": "3.9.12"
  },
  "orig_nbformat": 4
 },
 "nbformat": 4,
 "nbformat_minor": 2
}
