{
 "cells": [
  {
   "cell_type": "code",
   "execution_count": 1,
   "metadata": {},
   "outputs": [],
   "source": [
    "import os\n",
    "import numpy as np\n",
    "import time\n",
    "\n",
    "from keras.utils.np_utils import to_categorical\n",
    "from sklearn.model_selection import train_test_split\n",
    "\n",
    "from keras.models import Sequential\n",
    "from keras import layers, callbacks\n",
    "\n",
    "from keras.models import load_model\n",
    "from sklearn.metrics import multilabel_confusion_matrix\n",
    "\n",
    "import matplotlib.pyplot as plt"
   ]
  },
  {
   "cell_type": "code",
   "execution_count": 2,
   "metadata": {},
   "outputs": [],
   "source": [
    "# 제스처 좌표데이터셋 목록 읽어오기\n",
    "file_list = os.listdir(\"./Dataset\")\n",
    "\n",
    "# 파일 확장자 빼고 제스처 이름만 저장\n",
    "actions = []\n",
    "for i in range(len(file_list)) :\n",
    "    actions.append(file_list[i][:-4])\n",
    "\n",
    "\n",
    "# 회전변환 행렬\n",
    "def Rx(theta) :\n",
    "    return np.array([[1,        0,              0      ], \n",
    "                    [ 0,  np.cos(theta), -np.sin(theta)], \n",
    "                    [ 0,  np.sin(theta),  np.cos(theta)]])\n",
    "def Ry(theta) :\n",
    "    return np.array([[np.cos(theta),  0,  np.sin(theta)], \n",
    "                    [       0,        1,        0      ],\n",
    "                    [-np.sin(theta),  0,  np.cos(theta)]])\n",
    "def Rz(theta) :\n",
    "    return np.array([[np.cos(theta), -np.sin(theta),  0  ], \n",
    "                    [ np.sin(theta),  np.cos(theta),  0  ], \n",
    "                    [       0,              0,        1  ]])\n",
    "    \n",
    "# 각 축을 기준으로 회전변환할 각도 (x, y, z 축 기준 회전각 : pitch, yaw, roll)\n",
    "rotation_degree_x = np.deg2rad([0, 5,10,20,30, 355,350,340,330])\n",
    "rotation_degree_y = np.deg2rad([0, 5,10,20,30, 355,350,340,330])\n",
    "rotation_degree_z = np.deg2rad([0, 30,60,90,120,150,180])\n",
    "\n",
    "\n",
    "# 시퀀스 길이\n",
    "seq_length = 10"
   ]
  },
  {
   "cell_type": "code",
   "execution_count": 3,
   "metadata": {},
   "outputs": [],
   "source": [
    "data_X = np.zeros((1, seq_length, 24))    # 24는 angle데이터 길이\n",
    "data_Y = np.zeros(1)\n",
    "\n",
    "# 각 제스처 좌표 데이터셋마다\n",
    "for action_index, action_name in enumerate(actions):\n",
    "    loaded = np.load(f'./Dataset/{actions[action_index]}.npy')\n",
    "\n",
    "    # 각 회전마다\n",
    "    for rdz in rotation_degree_z :\n",
    "        for rdy in rotation_degree_y :\n",
    "            for rdx in rotation_degree_x :\n",
    "                \n",
    "                data_list_X, data_list_y = [], []    # 각 회전변환의 리스트 형식의 문제지, 정답지\n",
    "                angle_data = []\n",
    "                \n",
    "                # 제스처데이터 각 프레임마다\n",
    "                for fr in range(len(loaded)) :\n",
    "                    coord = []\n",
    "                    \n",
    "                    # 각 프레임의 모든 랜드마크 좌표 회전변환\n",
    "                    for lm in range(21) :    \n",
    "                        coord.append( loaded[fr][lm] @ Rz(rdz) @ Ry(rdy) @ Rx(rdx) )\n",
    "                    \n",
    "                    coord = np.array(coord)\n",
    "\n",
    "                    a = coord[[ 5,  1,2,3,  5,6,7,   9,10,11,  13,14,15,  17,18,19,  0, 0], :]\n",
    "                    b = coord[[17,  2,3,4,  6,7,8,  10,11,12,  14,15,16,  18,19,20,  5,17], :] \n",
    "                    vec = b - a\n",
    "\n",
    "                    vec_unit = vec / np.linalg.norm(vec, axis=1)[:, np.newaxis]\n",
    "                    \n",
    "                    angle = np.arccos( np.einsum('ij, ij->i',\n",
    "                        vec_unit[[0,1,2,  0,4,5,  0,7,8,   0,10,11,   0,13,14,  3,6,9,12,15,  6,9,12,15], :], \n",
    "                        vec_unit[[1,2,3,  4,5,6,  7,8,9,  10,11,12,  13,14,15,  0,0,0, 0, 0,  2,2, 2, 2], :]))\n",
    "\n",
    "                    angle_data.append(np.degrees(angle))\n",
    "                \n",
    "                # 시퀀스길이에 따라 시퀀스데이터로 변환\n",
    "                for i in range(len(angle_data) - seq_length):\n",
    "                    data_list_X.append(angle_data[i: i + seq_length])\n",
    "                    data_list_y.append(action_index)\n",
    "\n",
    "                # 문제지, 정답지\n",
    "                data_X = np.append(data_X, data_list_X, axis=0)\n",
    "                data_Y = np.append(data_Y, data_list_y, axis=0)"
   ]
  },
  {
   "cell_type": "code",
   "execution_count": 4,
   "metadata": {},
   "outputs": [],
   "source": [
    "# 문제지,정답지 맨 앞 제외하고\n",
    "X = data_X[1:]\n",
    "Y = data_Y[1:]\n",
    "\n",
    "# 정답지 원핫 인코딩\n",
    "Y = to_categorical(Y, num_classes=len(actions))\n",
    "\n",
    "# 훈련데이터 시험데이터 분리\n",
    "X_train, X_test, Y_train, Y_test = train_test_split(X, Y, test_size=0.2)"
   ]
  },
  {
   "cell_type": "code",
   "execution_count": 5,
   "metadata": {},
   "outputs": [
    {
     "name": "stdout",
     "output_type": "stream",
     "text": [
      "Epoch 1/20\n",
      "738/738 [==============================] - 4s 4ms/step - loss: 0.3480 - accuracy: 0.8603 - val_loss: 0.0318 - val_accuracy: 1.0000\n",
      "Epoch 2/20\n",
      "738/738 [==============================] - 3s 3ms/step - loss: 0.1077 - accuracy: 0.9610 - val_loss: 0.0076 - val_accuracy: 1.0000\n",
      "Epoch 3/20\n",
      "738/738 [==============================] - 2s 3ms/step - loss: 0.1334 - accuracy: 0.9500 - val_loss: 0.0237 - val_accuracy: 1.0000\n",
      "Epoch 4/20\n",
      "738/738 [==============================] - 2s 3ms/step - loss: 0.1190 - accuracy: 0.9524 - val_loss: 0.0096 - val_accuracy: 1.0000\n",
      "Epoch 5/20\n",
      "738/738 [==============================] - 2s 3ms/step - loss: 0.1084 - accuracy: 0.9550 - val_loss: 0.0051 - val_accuracy: 1.0000\n",
      "Epoch 6/20\n",
      "738/738 [==============================] - 2s 3ms/step - loss: 0.1170 - accuracy: 0.9507 - val_loss: 0.0035 - val_accuracy: 1.0000\n",
      "Epoch 7/20\n",
      "738/738 [==============================] - 2s 3ms/step - loss: 0.1250 - accuracy: 0.9481 - val_loss: 0.0073 - val_accuracy: 1.0000\n",
      "Epoch 8/20\n",
      "738/738 [==============================] - 2s 3ms/step - loss: 0.1504 - accuracy: 0.9398 - val_loss: 0.0234 - val_accuracy: 1.0000\n",
      "Epoch 9/20\n",
      "738/738 [==============================] - 2s 3ms/step - loss: 0.1574 - accuracy: 0.9368 - val_loss: 0.0252 - val_accuracy: 1.0000\n",
      "Epoch 10/20\n",
      "738/738 [==============================] - 2s 3ms/step - loss: 0.1851 - accuracy: 0.9290 - val_loss: 0.0436 - val_accuracy: 1.0000\n",
      "Epoch 11/20\n",
      "738/738 [==============================] - 2s 3ms/step - loss: 0.1901 - accuracy: 0.9294 - val_loss: 0.0395 - val_accuracy: 1.0000\n",
      "Epoch 12/20\n",
      "738/738 [==============================] - 2s 3ms/step - loss: 0.1791 - accuracy: 0.9325 - val_loss: 0.0329 - val_accuracy: 1.0000\n",
      "Epoch 13/20\n",
      "738/738 [==============================] - 2s 3ms/step - loss: 0.1715 - accuracy: 0.9348 - val_loss: 0.0415 - val_accuracy: 1.0000\n",
      "Epoch 14/20\n",
      "738/738 [==============================] - 2s 3ms/step - loss: 0.1767 - accuracy: 0.9311 - val_loss: 0.0415 - val_accuracy: 1.0000\n",
      "Epoch 15/20\n",
      "738/738 [==============================] - 2s 3ms/step - loss: 0.1707 - accuracy: 0.9317 - val_loss: 0.0248 - val_accuracy: 1.0000\n",
      "Epoch 16/20\n",
      "738/738 [==============================] - 2s 3ms/step - loss: 0.1548 - accuracy: 0.9367 - val_loss: 0.0287 - val_accuracy: 1.0000\n",
      "231/231 [==============================] - 0s 1ms/step - loss: 0.0037 - accuracy: 1.0000\n"
     ]
    }
   ],
   "source": [
    "epochs = 20\n",
    "\n",
    "time_started = time.time()\n",
    "\n",
    "model = Sequential([\n",
    "    layers.GRU(64, input_shape = X_train.shape[1:], activation='tanh'),\n",
    "    layers.Dropout(0.4),\n",
    "    layers.Dense(32, activation='relu'),\n",
    "    layers.Dropout(0.4),\n",
    "    layers.Dense(len(actions), activation='softmax')\n",
    "])\n",
    "\n",
    "model.compile(optimizer='adam', loss='categorical_crossentropy', metrics='accuracy')\n",
    "\n",
    "checkpoint = callbacks.ModelCheckpoint('./Models/model.h5', save_best_only=True)\n",
    "earlystopping = callbacks.EarlyStopping(patience=10, restore_best_weights=True)\n",
    "\n",
    "hist = model.fit(   X_train, Y_train,\n",
    "                    validation_split=0.2,\n",
    "                    epochs = epochs,\n",
    "                    callbacks = [checkpoint, earlystopping],\n",
    "                    verbose=1   )\n",
    "\n",
    "score = model.evaluate(X_test, Y_test)\n",
    "\n",
    "time_took = time.time() - time_started"
   ]
  },
  {
   "cell_type": "code",
   "execution_count": null,
   "metadata": {},
   "outputs": [],
   "source": []
  },
  {
   "cell_type": "markdown",
   "metadata": {},
   "source": [
    "### 학습 그래프"
   ]
  },
  {
   "cell_type": "code",
   "execution_count": 6,
   "metadata": {},
   "outputs": [
    {
     "data": {
      "image/png": "[encoded data removed]",
      "text/plain": [
       "<Figure size 864x576 with 1 Axes>"
      ]
     },
     "metadata": {
      "needs_background": "light"
     },
     "output_type": "display_data"
    }
   ],
   "source": [
    "plt.figure(figsize=(12,8))\n",
    "plt.plot(hist.history['accuracy'], label='train accuracy')\n",
    "plt.plot(hist.history['val_loss'], label='validation loss')\n",
    "\n",
    "plt.xlim(-1,5)\n",
    "\n",
    "plt.legend(), plt.grid\n",
    "plt.show()"
   ]
  },
  {
   "cell_type": "markdown",
   "metadata": {},
   "source": [
    "### 모델 평가"
   ]
  },
  {
   "cell_type": "code",
   "execution_count": null,
   "metadata": {},
   "outputs": [],
   "source": [
    "model = load_model('models/model.h5')\n",
    "\n",
    "Y_pred = model.predict(X_test)\n",
    "Y_pred"
   ]
  },
  {
   "cell_type": "code",
   "execution_count": null,
   "metadata": {},
   "outputs": [],
   "source": [
    "multilabel_confusion_matrix(np.argmax(Y_test, axis=1), np.argmax(Y_pred, axis=1))"
   ]
  },
  {
   "cell_type": "markdown",
   "metadata": {},
   "source": [
    "### 연습"
   ]
  },
  {
   "cell_type": "code",
   "execution_count": null,
   "metadata": {},
   "outputs": [],
   "source": [
    "loaded = np.load(f'./Dataset/{actions[i]}.npy')\n",
    "# loaded"
   ]
  },
  {
   "cell_type": "code",
   "execution_count": null,
   "metadata": {},
   "outputs": [],
   "source": [
    "len(loaded)"
   ]
  },
  {
   "cell_type": "code",
   "execution_count": null,
   "metadata": {},
   "outputs": [],
   "source": [
    "loaded[0][0]"
   ]
  },
  {
   "cell_type": "code",
   "execution_count": null,
   "metadata": {},
   "outputs": [],
   "source": [
    "loaded[0][0] @ Rz(np.deg2rad(90)) @ Ry(np.deg2rad(90)) @ Rx(np.deg2rad(90))"
   ]
  },
  {
   "cell_type": "code",
   "execution_count": null,
   "metadata": {},
   "outputs": [],
   "source": [
    "np.dot( np.dot( np.dot( loaded[0][0], Rz(np.deg2rad(90)) ), Ry(np.deg2rad(90)) ), Rx(np.deg2rad(90)) )"
   ]
  },
  {
   "cell_type": "code",
   "execution_count": null,
   "metadata": {},
   "outputs": [],
   "source": [
    "a = loaded[:, [5,   1,2,3,   5,6,7,   9,10,11,   13,14,15,   17,18,19,   0,0], :]\n",
    "b = loaded[:, [17,   2,3,4,   6,7,8,   10,11,12,   14,15,16,   18,19,20,   5,17], :] \n",
    "v = b - a\n",
    "v.shape, v"
   ]
  },
  {
   "cell_type": "code",
   "execution_count": null,
   "metadata": {},
   "outputs": [],
   "source": [
    "unitv = v / np.linalg.norm(v, axis=2)[:,:,np.newaxis]\n",
    "unitv.shape, unitv"
   ]
  },
  {
   "cell_type": "code",
   "execution_count": null,
   "metadata": {},
   "outputs": [],
   "source": [
    "# 내적을 이용한 각도 계산 ( a•b = |a||b|cos(Θ) )    # 내적, cos의 역수\n",
    "angle = np.arccos( np.einsum('ijk, ijk->ij',\n",
    "                                unitv[:, [0,1,2,  0,4,5,  0,7,8,   0,10,11,    0,13,14,   3,6,9,12,15,   6,9,12,15], :], \n",
    "                                unitv[:, [1,2,3,  4,5,6,  7,8,9,  10,11,12,   13,14,15,   0,0,0, 0, 0,   2,2, 2, 2], :]) \n",
    ")\n",
    "angle.shape, angle"
   ]
  },
  {
   "cell_type": "code",
   "execution_count": null,
   "metadata": {},
   "outputs": [],
   "source": [
    "# 라디안 단위 변환\n",
    "angle = np.degrees(angle)\n",
    "angle.shape, angle"
   ]
  },
  {
   "cell_type": "markdown",
   "metadata": {},
   "source": [
    "#### 회전변환, 각도변환"
   ]
  },
  {
   "cell_type": "code",
   "execution_count": null,
   "metadata": {},
   "outputs": [],
   "source": [
    "loaded = np.load(f'./Dataset/{actions[i]}.npy')"
   ]
  },
  {
   "cell_type": "code",
   "execution_count": null,
   "metadata": {},
   "outputs": [],
   "source": [
    "data_X, data_y = [], []\n",
    "\n",
    "# 각 제스처 좌표데이터별로\n",
    "\n",
    "# for i, gest in enumerate(actions):\n",
    "#     loaded = np.load(f'./Dataset/{actions[i]}.npy')\n",
    "\n",
    "# 회전변환\n",
    "gest_coord = []\n",
    "for rdz in rotation_degree_z :\n",
    "    for rdy in rotation_degree_y :\n",
    "        for rdx in rotation_degree_x :\n",
    "            \n",
    "            for i in range(len(loaded)) :\n",
    "                frame = []\n",
    "                for j in range(21) :\n",
    "                    frame.append( loaded[i][j] @ Rz(rdz) @ Ry(rdy) @ Rx(rdx) )\n",
    "                    \n",
    "            gest_coord.append((frame))\n",
    "            \n",
    "coord = np.array(gest_coord)\n",
    "\n",
    "a = coord[:, [ 5,   1,2,3,   5,6,7,    9,10,11,   13,14,15,   17,18,19,   0, 0], :]\n",
    "b = coord[:, [17,   2,3,4,   6,7,8,   10,11,12,   14,15,16,   18,19,20,   5,17], :] \n",
    "v = b - a\n",
    "\n",
    "unit_v = v / np.linalg.norm(v, axis=2)[:, :, np.newaxis]\n",
    "\n",
    "angle = np.arccos( np.einsum('ijk, ijk->ij',\n",
    "                            unit_v[:, [0,1,2,  0,4,5,  0,7,8,   0,10,11,    0,13,14,   3,6,9,12,15,   6,9,12,15], :], \n",
    "                            unit_v[:, [1,2,3,  4,5,6,  7,8,9,  10,11,12,   13,14,15,   0,0,0, 0, 0,   2,2, 2, 2], :]) )\n",
    "angle = np.degrees(angle)"
   ]
  },
  {
   "cell_type": "code",
   "execution_count": null,
   "metadata": {},
   "outputs": [],
   "source": [
    "# gestCoord\n",
    "# coord.shape, coord\n",
    "# v.shape, v\n",
    "# unitv.shape, unitv\n",
    "angle.shape, angle"
   ]
  },
  {
   "cell_type": "markdown",
   "metadata": {},
   "source": [
    "### 버전1"
   ]
  },
  {
   "cell_type": "code",
   "execution_count": null,
   "metadata": {},
   "outputs": [],
   "source": [
    "data_X, data_Y = [], []    # 전체 문제지, 정답지\n",
    "\n",
    "# 각 제스처 좌표 데이터셋마다\n",
    "for action_index, action_name in enumerate(actions):\n",
    "    loaded = np.load(f'./Dataset/{actions[action_index]}.npy')\n",
    "\n",
    "    # 각 회전마다\n",
    "    for rdz in rotation_degree_z :\n",
    "        for rdy in rotation_degree_y :\n",
    "            for rdx in rotation_degree_x :\n",
    "                \n",
    "                data_list_X, data_list_y = [], []    # 각 회전변환의 리스트 형식의 문제지, 정답지\n",
    "                angle_data = []\n",
    "                \n",
    "                # 제스처데이터 각 프레임마다\n",
    "                for fr in range(len(loaded)) :\n",
    "                    coord = []\n",
    "                    \n",
    "                    # 각 프레임의 모든 랜드마크 좌표 회전변환\n",
    "                    for lm in range(21) :    \n",
    "                        coord.append( loaded[fr][lm] @ Rz(rdz) @ Ry(rdy) @ Rx(rdx) )\n",
    "                    \n",
    "                    coord = np.array(coord)\n",
    "\n",
    "                    a = coord[[ 5,  1,2,3,  5,6,7,   9,10,11,  13,14,15,  17,18,19,  0, 0], :]\n",
    "                    b = coord[[17,  2,3,4,  6,7,8,  10,11,12,  14,15,16,  18,19,20,  5,17], :] \n",
    "                    vec = b - a\n",
    "\n",
    "                    vec_unit = vec / np.linalg.norm(vec, axis=1)[:, np.newaxis]\n",
    "                    \n",
    "                    angle = np.arccos( np.einsum('ij, ij->i',\n",
    "                        vec_unit[[0,1,2,  0,4,5,  0,7,8,   0,10,11,   0,13,14,  3,6,9,12,15,  6,9,12,15], :], \n",
    "                        vec_unit[[1,2,3,  4,5,6,  7,8,9,  10,11,12,  13,14,15,  0,0,0, 0, 0,  2,2, 2, 2], :]))\n",
    "\n",
    "                    angle_data.append(np.degrees(angle))\n",
    "                \n",
    "                # 시퀀스길이에 따라 시퀀스데이터로 변환\n",
    "                for i in range(len(angle_data) - seq_length):\n",
    "                    data_list_X.append(angle_data[i: i + seq_length])\n",
    "                    data_list_y.append(action_index)\n",
    "                # 문제지 정답지 타입 변환 - 시간절약\n",
    "                data_ndarray_X = np.array(data_list_X)\n",
    "                data_ndarray_y = np.array(data_list_y)\n",
    "                # 전체 문제지 정답지에 추가 (리스트)\n",
    "                data_X.append(data_ndarray_X)\n",
    "                data_Y.append(data_ndarray_y)\n",
    "                "
   ]
  },
  {
   "cell_type": "code",
   "execution_count": null,
   "metadata": {},
   "outputs": [],
   "source": [
    "# 리스트 타입의 문제지 정답지 ndarray로 타입 변환\n",
    "data_n_X = np.array(data_X)\n",
    "data_n_Y = np.array(data_Y)\n",
    "\n",
    "# ndarray reshape\n",
    "X = data_n_X.reshape(-1, seq_length, len(angle))\n",
    "Y = data_n_Y.reshape(-1)\n",
    "\n",
    "# 정답지 원핫 인코딩\n",
    "Y = to_categorical(Y, num_classes=len(actions))\n",
    "\n",
    "# 훈련데이터 시험데이터 분리\n",
    "X_train, X_test, Y_train, Y_test = train_test_split(X, Y, test_size=0.2)"
   ]
  }
 ],
 "metadata": {
  "interpreter": {
   "hash": "cd59dd0552be85c986afa874499caaa5a13b671b4e441343555b9e4ea7e04c40"
  },
  "kernelspec": {
   "display_name": "Python 3.7.13 ('py_3_7')",
   "language": "python",
   "name": "python3"
  },
  "language_info": {
   "codemirror_mode": {
    "name": "ipython",
    "version": 3
   },
   "file_extension": ".py",
   "mimetype": "text/x-python",
   "name": "python",
   "nbconvert_exporter": "python",
   "pygments_lexer": "ipython3",
   "version": "3.7.13"
  },
  "orig_nbformat": 4
 },
 "nbformat": 4,
 "nbformat_minor": 2
}
