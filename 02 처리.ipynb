{
 "cells": [
  {
   "cell_type": "code",
   "execution_count": 1,
   "metadata": {},
   "outputs": [],
   "source": [
    "import os\n",
    "import pandas as pd\n",
    "import numpy as np"
   ]
  },
  {
   "cell_type": "code",
   "execution_count": 2,
   "metadata": {},
   "outputs": [
    {
     "data": {
      "text/plain": [
       "['a.npy']"
      ]
     },
     "execution_count": 2,
     "metadata": {},
     "output_type": "execute_result"
    }
   ],
   "source": [
    "# 데이터셋의 목록 읽어오기\n",
    "file_list = os.listdir(\"./Dataset\")\n",
    "file_list"
   ]
  },
  {
   "cell_type": "code",
   "execution_count": 3,
   "metadata": {},
   "outputs": [
    {
     "data": {
      "text/plain": [
       "['a']"
      ]
     },
     "execution_count": 3,
     "metadata": {},
     "output_type": "execute_result"
    }
   ],
   "source": [
    "# 파일 확장자 빼고 제스처 이름만 저장\n",
    "actions = []\n",
    "for i in range(len(file_list)) :\n",
    "    actions.append(file_list[i][:-4])\n",
    "\n",
    "actions"
   ]
  },
  {
   "cell_type": "code",
   "execution_count": 4,
   "metadata": {},
   "outputs": [],
   "source": [
    "# 각 축을 기준으로 회전변환할 각도 Rotation Degree\n",
    "\n",
    "## x축 기준 회전각 : pitch\n",
    "RDx = np.deg2rad([5,10,20,30, 355,350,340,330])\n",
    "## y축 기준 회전각 : yaw\n",
    "RDy = np.deg2rad([5,10,20,30,40, 355,350,340,330,320])\n",
    "## z축 기준 회전각 : roll\n",
    "RDz = np.deg2rad([20,40,60,80,100,120,140,160,180,200,220,240,260,280,300,320,340])"
   ]
  },
  {
   "cell_type": "code",
   "execution_count": 5,
   "metadata": {},
   "outputs": [
    {
     "data": {
      "text/plain": [
       "array([0.08726646, 0.17453293, 0.34906585, 0.52359878, 6.19591884,\n",
       "       6.10865238, 5.93411946, 5.75958653])"
      ]
     },
     "execution_count": 5,
     "metadata": {},
     "output_type": "execute_result"
    }
   ],
   "source": [
    "RDx"
   ]
  },
  {
   "cell_type": "code",
   "execution_count": 6,
   "metadata": {},
   "outputs": [],
   "source": [
    "# 회전변환 행렬\n",
    "def Rx(theta) :\n",
    "    return np.array([ [1, 0, 0], \n",
    "                    [0, np.cos(theta), -np.sin(theta)], \n",
    "                    [0, np.sin(theta), np.cos(theta)]])\n",
    "def Ry(theta) :\n",
    "    return np.array([[np.cos(theta), 0, np.sin(theta)], \n",
    "                    [0, 1, 0],\n",
    "                    [-np.sin(theta), 0, np.cos(theta)]])\n",
    "def Rz(theta) :\n",
    "    return np.array([[np.cos(theta), -np.sin(theta), 0], \n",
    "                    [np.sin(theta), np.cos(theta), 0], \n",
    "                    [0, 0, 1]])"
   ]
  },
  {
   "cell_type": "code",
   "execution_count": 7,
   "metadata": {},
   "outputs": [],
   "source": [
    "loaded = np.load(f'./Dataset/{actions[i]}.npy')"
   ]
  },
  {
   "cell_type": "code",
   "execution_count": 8,
   "metadata": {},
   "outputs": [
    {
     "data": {
      "text/plain": [
       "17"
      ]
     },
     "execution_count": 8,
     "metadata": {},
     "output_type": "execute_result"
    }
   ],
   "source": [
    "len(loaded)"
   ]
  },
  {
   "cell_type": "code",
   "execution_count": 9,
   "metadata": {},
   "outputs": [
    {
     "data": {
      "text/plain": [
       "array([7.13322282e-01, 8.22355270e-01, 6.18397848e-08])"
      ]
     },
     "execution_count": 9,
     "metadata": {},
     "output_type": "execute_result"
    }
   ],
   "source": [
    "loaded[0][0]"
   ]
  },
  {
   "cell_type": "code",
   "execution_count": 10,
   "metadata": {},
   "outputs": [
    {
     "data": {
      "text/plain": [
       "array([ 7.13322282e-01,  6.18397849e-08, -8.22355270e-01])"
      ]
     },
     "execution_count": 10,
     "metadata": {},
     "output_type": "execute_result"
    }
   ],
   "source": [
    "np.dot(loaded[0][0], Rx(np.deg2rad(90)))"
   ]
  },
  {
   "cell_type": "code",
   "execution_count": 11,
   "metadata": {},
   "outputs": [
    {
     "data": {
      "text/plain": [
       "array([-6.18397848e-08,  8.22355270e-01,  7.13322282e-01])"
      ]
     },
     "execution_count": 11,
     "metadata": {},
     "output_type": "execute_result"
    }
   ],
   "source": [
    "loaded[0][0] @ Rz(np.deg2rad(90)) @ Ry(np.deg2rad(90)) @ Rx(np.deg2rad(90))"
   ]
  },
  {
   "cell_type": "code",
   "execution_count": null,
   "metadata": {},
   "outputs": [],
   "source": [
    "# 각 제스처 좌표데이터별로\n",
    "for i, gest in enumerate(actions):\n",
    "    loaded = np.load(f'./Dataset/{actions[i]}.npy')\n",
    "    \n",
    "    # 회전변환\n",
    "    gestCoord = []\n",
    "    for rdz in RDz :\n",
    "        for rdy in RDy :\n",
    "            for rdx in RDx :\n",
    "                \n",
    "                for i in range(len(loaded)) :\n",
    "                    frame = []\n",
    "                    for j in range(21) :\n",
    "                        frame.append( loaded[i][j] @ Rz(rdz) @ Ry(rdy) @ Rx(rdx) )\n",
    "                        \n",
    "                gestCoord.append((frame))"
   ]
  },
  {
   "cell_type": "code",
   "execution_count": null,
   "metadata": {},
   "outputs": [],
   "source": [
    "gestCoord"
   ]
  },
  {
   "cell_type": "code",
   "execution_count": null,
   "metadata": {},
   "outputs": [],
   "source": [
    "a = np.array(gestCoord)\n",
    "a.shape , a"
   ]
  },
  {
   "cell_type": "code",
   "execution_count": null,
   "metadata": {},
   "outputs": [],
   "source": []
  }
 ],
 "metadata": {
  "interpreter": {
   "hash": "b3684562efed9d44592b610a8f8a2b0b723925e822dbc8078ff007ea2160eabd"
  },
  "kernelspec": {
   "display_name": "Python 3.9.12 ('MLDL')",
   "language": "python",
   "name": "python3"
  },
  "language_info": {
   "codemirror_mode": {
    "name": "ipython",
    "version": 3
   },
   "file_extension": ".py",
   "mimetype": "text/x-python",
   "name": "python",
   "nbconvert_exporter": "python",
   "pygments_lexer": "ipython3",
   "version": "3.9.12"
  },
  "orig_nbformat": 4
 },
 "nbformat": 4,
 "nbformat_minor": 2
}
